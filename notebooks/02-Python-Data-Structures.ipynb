{
 "cells": [
  {
   "cell_type": "markdown",
   "metadata": {},
   "source": [
    "# Python Data Structures\n",
    "\n",
    "## Data structure in computing\n",
    "\n",
    "Data structures are how computer programs store information. Theses information can be processed, analyzed \n",
    "and visualized easily from the programme. Scientific data can be large and complex and may require data structures appropriate for scientific programming. In Astronomy, the `fits` file is one of the most widely used data-storing medium, it can store a lot of information including the coordinates, the precious time, a very large cataelog table, multi-dimension data cube, etc.. These data, when it is opened by the programme, shall be recognised and easily managed by the programme.\n",
    "\n",
    "In Python, there are pre-defined advanced data structure depending on the kind of data you wish to store. \n",
    "You will have to choose data structures that best meet your requirements for the problem you are trying to solve. In this section, I will go through specifically examine three Python data structures: datetime, lists, tuples, sets, and dictionaries.\n",
    "\n",
    "<a href=\"https://colab.research.google.com/github/ryan-leung/PHYS4650_Python_Tutorial/blob/master/notebooks/02-Python-Data-Structures.ipynb\"><img align=\"right\" src=\"https://colab.research.google.com/assets/colab-badge.svg\" alt=\"Open in Colab\" title=\"Open and Execute in Google Colaboratory\">\n",
    "</a>\n"
   ]
  },
  {
   "cell_type": "markdown",
   "metadata": {},
   "source": [
    "# Built-In Types\n",
    "\n",
    "Python's simple types are summarized in the following table:\n",
    "\n",
    "\n",
    "| Type        | Example        | Description                                                  |\n",
    "|-------------|----------------|--------------------------------------------------------------|\n",
    "| ``int``     | ``x = 1``      | integers (i.e., whole numbers)                               |\n",
    "| ``float``   | ``x = 1.0``    | floating-point numbers (i.e., real numbers)                  |\n",
    "| ``complex`` | ``x = 1 + 2j`` | Complex numbers (i.e., numbers with real and imaginary part) |\n",
    "| ``bool``    | ``x = True``   | Boolean: True/False values                                   |\n",
    "| ``str``     | ``x = 'abc'``  | String: characters or text                                   |\n",
    "| ``NoneType``| ``x = None``   | Special object indicating nulls                              |\n",
    "\n",
    "We'll take a quick look at each of these in turn."
   ]
  },
  {
   "cell_type": "code",
   "execution_count": 1,
   "metadata": {},
   "outputs": [],
   "source": [
    "a = 1 # integer\n",
    "b = 1.1 #floating point numbers\n",
    "c = True; d = False # Boolean (logical expression)\n",
    "e = \"Hello\" # Strings"
   ]
  },
  {
   "cell_type": "markdown",
   "metadata": {},
   "source": [
    "# Arithmetic Operations\n",
    "Python implements seven basic binary arithmetic operators, two of which can double as unary operators.\n",
    "They are summarized in the following table:\n",
    "\n",
    "| Operator     | Name           | Description                                            |\n",
    "|--------------|----------------|--------------------------------------------------------|\n",
    "| ``a + b``    | Addition       | Sum of ``a`` and ``b``                                 |\n",
    "| ``a - b``    | Subtraction    | Difference of ``a`` and ``b``                          |\n",
    "| ``a * b``    | Multiplication | Product of ``a`` and ``b``                             |\n",
    "| ``a / b``    | True division  | Quotient of ``a`` and ``b``                            |\n",
    "| ``a // b``   | Floor division | Quotient of ``a`` and ``b``, removing fractional parts |\n",
    "| ``a % b``    | Modulus        | Integer remainder after division of ``a`` by ``b``     |\n",
    "| ``a ** b``   | Exponentiation | ``a`` raised to the power of ``b``                     |\n",
    "| ``-a``       | Negation       | The negative of ``a``                                  |\n",
    "| ``+a``       | Unary plus     | ``a`` unchanged (rarely used)                          |\n",
    "\n",
    "These operators can be used and combined in intuitive ways, using standard parentheses to group operations.\n",
    "For example:"
   ]
  },
  {
   "cell_type": "code",
   "execution_count": 2,
   "metadata": {},
   "outputs": [
    {
     "data": {
      "text/plain": [
       "42.0"
      ]
     },
     "execution_count": 2,
     "metadata": {},
     "output_type": "execute_result"
    }
   ],
   "source": [
    "# addition, subtraction, multiplication\n",
    "(4 + 8) * (6.5 - 3)"
   ]
  },
  {
   "cell_type": "markdown",
   "metadata": {},
   "source": [
    "# Strings in Python 2 and 3"
   ]
  },
  {
   "cell_type": "markdown",
   "metadata": {},
   "source": [
    "```Python\n",
    "# Python 2\n",
    "\n",
    "print type(\"Hello World!\")\n",
    "<type 'str'> \n",
    "# this is a byte string\n",
    "\n",
    "print type(u\"Hello World!\")\n",
    "<type 'unicode'>\n",
    "# this is a Unicode string\n",
    "```"
   ]
  },
  {
   "cell_type": "markdown",
   "metadata": {},
   "source": [
    "```Python\n",
    "# Python 3\n",
    "\n",
    "print(type(\"Hello World!\"))\n",
    "<class 'str'>\n",
    "# this is a Unicode string\n",
    "\n",
    "print(type(b\"Hello World!\"))\n",
    "<class 'bytes'>\n",
    "# this is a byte string\n",
    "```"
   ]
  },
  {
   "cell_type": "markdown",
   "metadata": {},
   "source": [
    "# Built-In Data Structures\n",
    "\n",
    "| Type Name | Example                   | Add Element                                | Get Element | Set Element | Description                           |\n",
    "|-----------|---------------------------|--------------------------------------------|-------------|-------------|---------------------------------------|\n",
    "| ``list``  | ``[1, 2, 3]``             | x.append(1)                                | x[0]        | x[0]=2      | Ordered collection                    |\n",
    "| ``tuple`` | ``(1, 2, 3)``             | no altering                                | x[0]        | no altering | Immutable ordered collection          |\n",
    "| ``dict``  | ``{'a':1, 'b':2, 'c':3}`` | x['new_key'] = 4 or x.update({'new_key'=4} | x['a']      | x['a']=2    | Unordered (key,value) mapping         |\n",
    "| ``set``   | ``{1, 2, 3}``             | x.add(4)                                   | no indexing | no indexing | Unordered collection of unique values |\n"
   ]
  },
  {
   "cell_type": "markdown",
   "metadata": {},
   "source": [
    "# list\n",
    "\n",
    "A Python list is a sequence of values (elements) that are usually the same kind of item. They are in order and mutable. Mutable means they can be changed after they are created, of course, this implies you can exchange the order of the elements inside it. This is a Python list of prime numbers smaller than 50:\n"
   ]
  },
  {
   "cell_type": "code",
   "execution_count": 3,
   "metadata": {},
   "outputs": [],
   "source": [
    "x = [2, 3, 5, 7, 11, 13, 17, 19, 23, 29, 31, 37, 41, 43, 47]"
   ]
  },
  {
   "cell_type": "markdown",
   "metadata": {},
   "source": [
    "### Definition\n",
    "It is defined with parentheses : `[xx,xx,xx]`. \n",
    "\n",
    "### Get Element\n",
    "The elements are called using a square bracket with an index starting from zero : `x[y], 0..N`. \n",
    "\n",
    "### Slice (sub-array)\n",
    "You can slice the array using colon, in this case `a[start:end]` means items start up to end-1."
   ]
  },
  {
   "cell_type": "code",
   "execution_count": 4,
   "metadata": {},
   "outputs": [
    {
     "name": "stdout",
     "output_type": "stream",
     "text": [
      "[2, 3, 5, 7, 11, 13, 17, 19, 23, 29, 31, 37, 41, 43, 47]\n",
      "2\n"
     ]
    }
   ],
   "source": [
    "print(x)\n",
    "print(x[0])"
   ]
  },
  {
   "cell_type": "markdown",
   "metadata": {},
   "source": [
    "A single colon `a[:]` means a copy of the whole array.\n",
    "\n",
    "`a[start:]` return tuple of items start through the rest of the array.\n",
    "\n",
    "`a[:end] `return tuple of items from the beginning through end-1.\n"
   ]
  },
  {
   "cell_type": "code",
   "execution_count": 5,
   "metadata": {},
   "outputs": [
    {
     "name": "stdout",
     "output_type": "stream",
     "text": [
      "[3]\n",
      "[2, 3, 5, 7, 11, 13, 17, 19, 23, 29, 31, 37, 41, 43, 47]\n",
      "[2, 3]\n",
      "[3, 5, 7, 11, 13, 17, 19, 23, 29, 31, 37, 41, 43, 47]\n"
     ]
    }
   ],
   "source": [
    "print(x[1:2])\n",
    "print(x[:])\n",
    "print(x[:2])\n",
    "print(x[1:])"
   ]
  },
  {
   "cell_type": "markdown",
   "metadata": {},
   "source": [
    "more interestingly, they have negative index\n",
    "\n",
    "`a[-1]` means last item in the array\n",
    "\n",
    "`a[-2:]` means last two items in the array\n",
    "\n",
    "`a[:-2]` means everything except the last two items\n"
   ]
  },
  {
   "cell_type": "code",
   "execution_count": 6,
   "metadata": {},
   "outputs": [
    {
     "name": "stdout",
     "output_type": "stream",
     "text": [
      "47\n",
      "43\n",
      "[43, 47]\n",
      "[2, 3, 5, 7, 11, 13, 17, 19, 23, 29, 31, 37, 41]\n"
     ]
    }
   ],
   "source": [
    "print(x[-1])\n",
    "print(x[-2])\n",
    "print(x[-2:])\n",
    "print(x[:-2])"
   ]
  },
  {
   "cell_type": "markdown",
   "metadata": {},
   "source": [
    "You may reversed a list with `xxx[::-1]`."
   ]
  },
  {
   "cell_type": "code",
   "execution_count": 7,
   "metadata": {},
   "outputs": [
    {
     "name": "stdout",
     "output_type": "stream",
     "text": [
      "[47, 43, 41, 37, 31, 29, 23, 19, 17, 13, 11, 7, 5, 3, 2]\n"
     ]
    }
   ],
   "source": [
    "print(x[::-1])"
   ]
  },
  {
   "cell_type": "markdown",
   "metadata": {},
   "source": [
    "### Concatenate\n",
    "You may add up two `list` or we say concatenate, and multiply to duplicate the items."
   ]
  },
  {
   "cell_type": "code",
   "execution_count": 8,
   "metadata": {},
   "outputs": [
    {
     "name": "stdout",
     "output_type": "stream",
     "text": [
      "[2, 3, 5, 7, 11, 13, 17, 19, 23, 29, 31, 37, 41, 43, 47, 0, 1]\n",
      "[0, 1, 2, 3, 5, 7, 11, 13, 17, 19, 23, 29, 31, 37, 41, 43, 47]\n",
      "[0, 1, 0, 1, 0, 1, 0, 1, 0, 1]\n"
     ]
    }
   ],
   "source": [
    "print(x + [0,1])\n",
    "print([0,1] + x)\n",
    "print([0,1] * 5)"
   ]
  },
  {
   "cell_type": "markdown",
   "metadata": {},
   "source": [
    "### Sorting\n",
    "You may sort a list with `sorted(x)`. Noted that it returns a new list."
   ]
  },
  {
   "cell_type": "code",
   "execution_count": 9,
   "metadata": {},
   "outputs": [
    {
     "name": "stdout",
     "output_type": "stream",
     "text": [
      "[47, 43, 41, 37, 31, 29, 23, 19, 17, 13, 11, 7, 5, 3, 2]\n",
      "[2, 3, 5, 7, 11, 13, 17, 19, 23, 29, 31, 37, 41, 43, 47]\n"
     ]
    }
   ],
   "source": [
    "print(x[::-1])\n",
    "y = sorted(x[::-1])\n",
    "print(y)"
   ]
  },
  {
   "cell_type": "markdown",
   "metadata": {},
   "source": [
    "### Add element (append); Remove element (pop); Insert element (insert)\n",
    "These functions are modified in-place, i.e. the original list **will be changed**"
   ]
  },
  {
   "cell_type": "code",
   "execution_count": 10,
   "metadata": {},
   "outputs": [
    {
     "name": "stdout",
     "output_type": "stream",
     "text": [
      "[2, 3, 5, 7, 11, 13, 17, 19, 23, 29, 31, 37, 41, 43, 47]\n",
      "[2, 3, 5, 7, 11, 13, 17, 19, 23, 29, 31, 37, 41, 43, 47, 'A']\n"
     ]
    }
   ],
   "source": [
    "print(x)\n",
    "x.append('A')\n",
    "print(x)"
   ]
  },
  {
   "cell_type": "code",
   "execution_count": 11,
   "metadata": {},
   "outputs": [
    {
     "name": "stdout",
     "output_type": "stream",
     "text": [
      "[2, 3, 5, 7, 11, 13, 17, 19, 23, 29, 31, 37, 41, 43, 47, 'A']\n",
      "[2, 3, 5, 7, 11, 'B', 13, 17, 19, 23, 29, 31, 37, 41, 43, 47, 'A']\n"
     ]
    }
   ],
   "source": [
    "print(x)\n",
    "x.insert(5,'B') # insert 'B' between x[4] and x[5], results in x[5] = 'B'\n",
    "print(x)"
   ]
  },
  {
   "cell_type": "code",
   "execution_count": 12,
   "metadata": {},
   "outputs": [
    {
     "name": "stdout",
     "output_type": "stream",
     "text": [
      "[2, 3, 5, 7, 11, 'B', 13, 17, 19, 23, 29, 31, 37, 41, 43, 47, 'A']\n",
      "[2, 3, 5, 7, 11, 13, 17, 19, 23, 29, 31, 37, 41, 43, 47, 'A']\n",
      "[2, 3, 5, 7, 11, 13, 17, 19, 23, 29, 31, 37, 41, 43, 47]\n"
     ]
    }
   ],
   "source": [
    "print(x); \n",
    "x.pop(5); # Removed the x[5] item and return it\n",
    "print(x); \n",
    "x.pop(-1); # Removed the last item and return it\n",
    "print(x)"
   ]
  },
  {
   "cell_type": "markdown",
   "metadata": {},
   "source": [
    "# Tuple\n",
    "\n",
    "A Python tuple is similar to a list. The elements are in order but fixed once they are created. In other words, they are immutable. The tuple can store differently type of elements. \n",
    "\n",
    "### Definition\n",
    "It is defined with parentheses : `(xx,xx,xx)`. \n",
    "\n",
    "### Get Element\n",
    "The elements are called using a square bracket with an index starting from zero : `x[y], 0..N`. \n",
    "\n",
    "### Slice (sub-array)\n",
    "You can slice the array using colon, in this case `a[start:end]` means items start up to end-1."
   ]
  },
  {
   "cell_type": "code",
   "execution_count": 13,
   "metadata": {},
   "outputs": [
    {
     "name": "stdout",
     "output_type": "stream",
     "text": [
      "(22.28552, 114.15769)\n"
     ]
    }
   ],
   "source": [
    "corr = (22.28552, 114.15769)\n",
    "print(corr)"
   ]
  },
  {
   "cell_type": "code",
   "execution_count": 14,
   "metadata": {},
   "outputs": [
    {
     "ename": "TypeError",
     "evalue": "'tuple' object does not support item assignment",
     "output_type": "error",
     "traceback": [
      "\u001b[0;31m---------------------------------------------------------------------------\u001b[0m",
      "\u001b[0;31mTypeError\u001b[0m                                 Traceback (most recent call last)",
      "\u001b[0;32m<ipython-input-14-9c711ec5bb9f>\u001b[0m in \u001b[0;36m<module>\u001b[0;34m\u001b[0m\n\u001b[0;32m----> 1\u001b[0;31m \u001b[0mcorr\u001b[0m\u001b[0;34m[\u001b[0m\u001b[0;36m0\u001b[0m\u001b[0;34m]\u001b[0m \u001b[0;34m=\u001b[0m \u001b[0;36m10\u001b[0m\u001b[0;34m\u001b[0m\u001b[0;34m\u001b[0m\u001b[0m\n\u001b[0m",
      "\u001b[0;31mTypeError\u001b[0m: 'tuple' object does not support item assignment"
     ]
    }
   ],
   "source": [
    "corr[0] = 10"
   ]
  },
  {
   "cell_type": "markdown",
   "metadata": {},
   "source": [
    "## Dictionary"
   ]
  },
  {
   "cell_type": "markdown",
   "metadata": {},
   "source": [
    "Dictionary is more flexible than list and its index is a string, it is defined with curly bracket: \n",
    "\n",
    "`data = {'k1' : y1 , 'k2' : y2 , 'k3' : y3 }`\n",
    "\n",
    "`k1`, `k2`, `k3` are called keys while y1,y2 and y3 are elements.\n",
    "\n",
    "### Creating an empty dictionary\n",
    "It is defined with a pair of curly bracket or the `dict()` fuction: `data = {}` or `data = dict()`\n",
    "\n",
    "### Creating a dictionary with initial values\n",
    "1. It could be defined with a curly bracket with index:element pairs : `data = {'k1' : y1 , 'k2' : y2 , 'k3' : y3 }`. \n",
    "2. It could also be defined with the `dict()` function : `data = dict(k1=y1, k2=y2, k3=y3)`.\n",
    "3. It could also be defined with tuples : `data = {k: v for k, v in (('k1', y1),('k2',y2),('k3',y3))}`.\n",
    "\n",
    "### Get Element\n",
    "The elements are called using a square bracket with an index string : `data[key]`. \n",
    "\n",
    "### Inserting/Updating a single value / multiple values\n",
    "1. `data['k1']=1`  # Updates if 'k1' exists, else adds the element with index 'k1'\n",
    "\n",
    "2. `data.update({'k1':1})`\n",
    "\n",
    "3. `data.update(dict(k1=1))`\n",
    "\n",
    "4. `data.update(k1=1)`\n",
    "\n",
    "5. Multiple values : `data.update({'k3':3,'k4':4})`  # Updates 'k3' and adds 'k4'\n",
    "\n",
    "### Merged dictionary without modifying originals\n",
    "\n",
    "1. `data3 = {}`\n",
    "2. `data3.update(data)`  # Modifies data3, not data\n",
    "3. `data3.update(data2)`  # Modifies data3, not data2\n",
    "\n",
    "### Delete an item\n",
    "1. `del data[key]`  # Removes specific element in a dictionary\n",
    "2. `data.pop(key)`  # Removes the key & returns the value\n",
    "3. `data.clear()`  # Clears entire dictionary\n",
    "\n",
    "### Check if a key is existed\n",
    "\n",
    "1. `key in data` # Return a boolean\n",
    "\n",
    "### Iterate through pairs\n",
    "\n",
    "1. `for key in data:` # Iterates just through the keys, ignoring the values\n",
    "2. `for key, value in d.items():` # Iterates through the pairs"
   ]
  },
  {
   "cell_type": "code",
   "execution_count": 15,
   "metadata": {},
   "outputs": [
    {
     "name": "stdout",
     "output_type": "stream",
     "text": [
      "{}\n"
     ]
    }
   ],
   "source": [
    "# Creating an empty dictionary\n",
    "location = {}\n",
    "print(location)"
   ]
  },
  {
   "cell_type": "code",
   "execution_count": 16,
   "metadata": {},
   "outputs": [
    {
     "name": "stdout",
     "output_type": "stream",
     "text": [
      "{'Berlin': (52.5170365, 13.3888599), 'London': (51.5073219, -0.1276474), 'Sydney': (-33.8548157, 151.2164539), 'Tokyo': (34.2255804, 139.294774527387), 'Paris': (48.8566101, 2.3514992), 'Moscow': (46.7323875, -117.0001651)}\n"
     ]
    }
   ],
   "source": [
    "# Defined with a curly bracket\n",
    "location = {\n",
    "            'Berlin': (52.5170365, 13.3888599),\n",
    "            'London': (51.5073219, -0.1276474),\n",
    "            'Sydney': (-33.8548157, 151.2164539),\n",
    "            'Tokyo': (34.2255804, 139.294774527387),\n",
    "            'Paris': (48.8566101, 2.3514992),\n",
    "            'Moscow': (46.7323875, -117.0001651)\n",
    "           }\n",
    "print(location)"
   ]
  },
  {
   "cell_type": "code",
   "execution_count": 17,
   "metadata": {},
   "outputs": [
    {
     "name": "stdout",
     "output_type": "stream",
     "text": [
      "{'Berlin': (52.5170365, 13.3888599), 'London': (51.5073219, -0.1276474), 'Sydney': (-33.8548157, 151.2164539), 'Tokyo': (34.2255804, 139.294774527387), 'Paris': (48.8566101, 2.3514992), 'Moscow': (46.7323875, -117.0001651), 'Hong Kong': (22.2793278, 114.1628131)}\n"
     ]
    }
   ],
   "source": [
    "# Update\n",
    "location.update({'Hong Kong': (22.2793278, 114.1628131)})\n",
    "print(location)"
   ]
  },
  {
   "cell_type": "code",
   "execution_count": 18,
   "metadata": {},
   "outputs": [
    {
     "data": {
      "text/plain": [
       "(34.2255804, 139.294774527387)"
      ]
     },
     "execution_count": 18,
     "metadata": {},
     "output_type": "execute_result"
    }
   ],
   "source": [
    "# Call element\n",
    "location['Tokyo']"
   ]
  },
  {
   "cell_type": "code",
   "execution_count": 19,
   "metadata": {},
   "outputs": [
    {
     "data": {
      "text/plain": [
       "{'Berlin': (52.5170365, 13.3888599),\n",
       " 'London': (51.5073219, -0.1276474),\n",
       " 'Sydney': (-33.8548157, 151.2164539),\n",
       " 'Tokyo': (34.2255804, 139.294774527387),\n",
       " 'Paris': (48.8566101, 2.3514992),\n",
       " 'Moscow': (46.7323875, -117.0001651)}"
      ]
     },
     "execution_count": 19,
     "metadata": {},
     "output_type": "execute_result"
    }
   ],
   "source": [
    "# Delete element\n",
    "del location['Hong Kong']\n",
    "location"
   ]
  },
  {
   "cell_type": "code",
   "execution_count": 20,
   "metadata": {},
   "outputs": [
    {
     "name": "stdout",
     "output_type": "stream",
     "text": [
      "Berlin (52.5170365, 13.3888599)\n",
      "London (51.5073219, -0.1276474)\n",
      "Sydney (-33.8548157, 151.2164539)\n",
      "Tokyo (34.2255804, 139.294774527387)\n",
      "Paris (48.8566101, 2.3514992)\n",
      "Moscow (46.7323875, -117.0001651)\n"
     ]
    }
   ],
   "source": [
    "for key, value in location.items():\n",
    "    print(key, value)"
   ]
  },
  {
   "cell_type": "markdown",
   "metadata": {},
   "source": [
    "# Extra reading:"
   ]
  },
  {
   "cell_type": "code",
   "execution_count": 21,
   "metadata": {},
   "outputs": [
    {
     "name": "stdout",
     "output_type": "stream",
     "text": [
      "Original: [2, 3, 5, 7, 11, 13, 17, 19, 23, 29, 31, 37, 41, 43, 47]\n",
      "items start through end-1 : [5, 7, 11]\n",
      "items start through the rest of the array : [5, 7, 11, 13, 17, 19, 23, 29, 31, 37, 41, 43, 47]\n",
      "items from the beginning through end-1 : [2, 3, 5, 7, 11]\n",
      "whole array : [2, 3, 5, 7, 11, 13, 17, 19, 23, 29, 31, 37, 41, 43, 47]\n",
      "last item in the array : 47\n",
      "last two items in the array : [43, 47]\n",
      "everything except the last two items : [2, 3, 5, 7, 11, 13, 17, 19, 23, 29, 31, 37, 41]\n",
      "start through not past end, by step [5, 11]\n"
     ]
    }
   ],
   "source": [
    "### More on slicing in list and tuple\n",
    "start=2\n",
    "end=5\n",
    "step=2\n",
    "\n",
    "print(\"Original:\", x)\n",
    "print(\"items start through end-1 :\", x[start:end]) # items start through end-1\n",
    "print(\"items start through the rest of the array :\", x[start:])    # items start through the rest of the array\n",
    "print(\"items from the beginning through end-1 :\", x[:end])      # items from the beginning through end-1\n",
    "print(\"whole array :\", x[:])         # whole array\n",
    "print(\"last item in the array :\", x[-1])    # last item in the array\n",
    "print(\"last two items in the array :\", x[-2:])   # last two items in the array\n",
    "print(\"everything except the last two items :\", x[:-2])   # everything except the last two items\n",
    "\n",
    "print(\"start through not past end, by step\", x[start:end:step]) # start through no01-Python-Syntaxt past end, by step"
   ]
  },
  {
   "cell_type": "markdown",
   "metadata": {},
   "source": [
    "# Bitwise Operations\n",
    "In addition to the standard numerical operations, Python includes operators to perform bitwise logical operations on integers.\n",
    "These are much less commonly used than the standard arithmetic operations, but it's useful to know that they exist.\n",
    "The six bitwise operators are summarized in the following table:\n",
    "\n",
    "| Operator     | Name            | Description                                 |\n",
    "|--------------|-----------------|---------------------------------------------|\n",
    "| ``a & b``    | Bitwise AND     | Bits defined in both ``a`` and ``b``        |\n",
    "| <code>a &#124; b</code>| Bitwise OR      | Bits defined in ``a`` or ``b`` or both      |\n",
    "| ``a ^ b``    | Bitwise XOR     | Bits defined in ``a`` or ``b`` but not both |\n",
    "| ``a << b``   | Bit shift left  | Shift bits of ``a`` left by ``b`` units     |\n",
    "| ``a >> b``   | Bit shift right | Shift bits of ``a`` right by ``b`` units    |\n",
    "| ``~a``       | Bitwise NOT     | Bitwise negation of ``a``                          |"
   ]
  },
  {
   "cell_type": "markdown",
   "metadata": {},
   "source": [
    "# Summary\n",
    "\n",
    "These operations shows Python are so easy to use compared to lower-level languages such as C.\n",
    "In C, we need to manually constructing a loop over the list and checking for equality of each value.\n",
    "In Python, you just type what you want to know, easy to type but hard to debug, just like English grammar."
   ]
  }
 ],
 "metadata": {
  "kernelspec": {
   "display_name": "Python 3",
   "language": "python",
   "name": "python3"
  },
  "language_info": {
   "codemirror_mode": {
    "name": "ipython",
    "version": 3
   },
   "file_extension": ".py",
   "mimetype": "text/x-python",
   "name": "python",
   "nbconvert_exporter": "python",
   "pygments_lexer": "ipython3",
   "version": "3.7.1"
  }
 },
 "nbformat": 4,
 "nbformat_minor": 2
}
