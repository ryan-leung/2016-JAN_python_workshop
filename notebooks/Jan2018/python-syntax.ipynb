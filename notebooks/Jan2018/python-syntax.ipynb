{
 "cells": [
  {
   "cell_type": "markdown",
   "metadata": {},
   "source": [
    "# Python Syntax"
   ]
  },
  {
   "cell_type": "markdown",
   "metadata": {},
   "source": [
    "## Introduction\n",
    "\n",
    "In this tutorial notebook, you will learn how to do programming in python and Jupyter (formerly named as ipython). \n",
    "Syntax of python is cosidered as \"clean\" compared to other languages. \n",
    "\n",
    "Open a new python notebook, try to `copy` and `paste` the following codes to play with. The following codes show an example of a woring python code that calculate the  "
   ]
  },
  {
   "cell_type": "markdown",
   "metadata": {},
   "source": [
    "## Introduction to ipython/jupyter\n",
    "\n",
    "The Jupyter notebook is getting more attentions in the natural Science field in the past years. The development of jupyter notebook makes it more advance and stable. This is an article about \n",
    "\n",
    "http://www.nature.com/news/interactive-notebooks-sharing-the-code-1.16261\n",
    "\n",
    "\n",
    "### Basic operations:\n",
    "\n",
    "1. Click on the cell to select it.\n",
    "2. Press `SHIFT+ENTER` on your keyboard or press the play button (<button class='btn btn-default fa-step-forward fa'><span class=\"toolbar-btn-label\">Run</span></button>) in the toolbar above.\n",
    "3. Open new cells using the plus button (<button class='btn btn-default fa-plus fa' title=\"Run\"></button>)\n",
    "\n",
    "### Let's us print a ``Hello World!`` statement\n",
    "1. Write\n",
    "```python\n",
    "print(\"Hello World!\")\n",
    "``` \n",
    "into the cell below:\n",
    "2. Press `SHIFT+ENTER` on your keyboard!"
   ]
  },
  {
   "cell_type": "code",
   "execution_count": null,
   "metadata": {},
   "outputs": [],
   "source": []
  },
  {
   "cell_type": "markdown",
   "metadata": {},
   "source": [
    "## Hello World! in other language\n",
    "\n",
    "## Fortran\n",
    "```fortran\n",
    "    PROGRAM HELLO\n",
    "    WRITE (*,100)\n",
    "    STOP\n",
    "100 FORMAT (' Hello World! ' /)\n",
    "    END\n",
    "```\n",
    "\n",
    "## Lisp\n",
    "```lisp\n",
    "(print \"Hello World!\")\n",
    "```\n",
    "\n",
    "## C++\n",
    "```cpp\n",
    "#include <iostream.h>\n",
    "main()\n",
    "{\n",
    "    cout << \"Hello World!\" << endl;\n",
    "    return 0;\n",
    "}\n",
    "```\n",
    "\n",
    "\n",
    "## Java\n",
    "```java\n",
    "class HelloWorld {\n",
    "  static public void main( String args[] ) {\n",
    "    System.out.println( \"Hello World!\" );\n",
    "  }\n",
    "}\n",
    "```\n",
    "\n",
    "\n",
    "## Matlab\n",
    "```octave\n",
    "disp('Hello World!');\n",
    "```\n",
    "## JavaScript\n",
    "```javascript\n",
    "document.write('Hello World!')\n",
    "```"
   ]
  },
  {
   "cell_type": "markdown",
   "metadata": {},
   "source": [
    "## Screen Output\n",
    "\n",
    "To enter more than one line in a cell, press ``Enter``. The print function will print all the objects seprated by a comma `,` on the same line, the output will have . For example,  ```print \"Hello\", \"World!\"``` will have a space between `Hello` and `World!`.\n"
   ]
  },
  {
   "cell_type": "code",
   "execution_count": 2,
   "metadata": {},
   "outputs": [
    {
     "ename": "SyntaxError",
     "evalue": "Missing parentheses in call to 'print'. Did you mean print(\"Hello\", \"World!\")? (<ipython-input-2-cc9c04ed789a>, line 1)",
     "output_type": "error",
     "traceback": [
      "\u001b[0;36m  File \u001b[0;32m\"<ipython-input-2-cc9c04ed789a>\"\u001b[0;36m, line \u001b[0;32m1\u001b[0m\n\u001b[0;31m    print \"Hello\", \"World!\"\u001b[0m\n\u001b[0m                ^\u001b[0m\n\u001b[0;31mSyntaxError\u001b[0m\u001b[0;31m:\u001b[0m Missing parentheses in call to 'print'. Did you mean print(\"Hello\", \"World!\")?\n"
     ]
    }
   ],
   "source": [
    "print \"Hello\", \"World!\""
   ]
  },
  {
   "cell_type": "code",
   "execution_count": 3,
   "metadata": {},
   "outputs": [
    {
     "ename": "SyntaxError",
     "evalue": "Missing parentheses in call to 'print'. Did you mean print(\"Tips 3: Use \\ to escape an characters like \\\"\")? (<ipython-input-3-8d88a3308fc6>, line 1)",
     "output_type": "error",
     "traceback": [
      "\u001b[0;36m  File \u001b[0;32m\"<ipython-input-3-8d88a3308fc6>\"\u001b[0;36m, line \u001b[0;32m1\u001b[0m\n\u001b[0;31m    print \"Tips 3: Use \\ to escape an characters like \\\"\"\u001b[0m\n\u001b[0m                                                        ^\u001b[0m\n\u001b[0;31mSyntaxError\u001b[0m\u001b[0;31m:\u001b[0m Missing parentheses in call to 'print'. Did you mean print(\"Tips 3: Use \\ to escape an characters like \\\"\")?\n"
     ]
    }
   ],
   "source": [
    "print \"Tips 3: Use \\ to escape an characters like \\\"\"\n",
    "print \"Tips 4: Use \\\\n \\n to make a newline character\"\n",
    "print '''Tips 5: Use three \\' to \n",
    "make \n",
    "multiple \n",
    "line\n",
    "''' "
   ]
  },
  {
   "cell_type": "markdown",
   "metadata": {},
   "source": [
    "## The magic command (ipython specific)\n",
    "\n",
    "Any command starts with `%` are magic command in ipython notebook. These `%` command can only be used in ipython instant. A full list of magic command can be found here: \n",
    "\n",
    "http://ipython.readthedocs.io/en/stable/interactive/magics.html. \n",
    "\n",
    "These commands are particularly useful in developing and debugging your program.\n",
    "\n",
    "\n"
   ]
  },
  {
   "cell_type": "markdown",
   "metadata": {},
   "source": [
    "## Import package and library\n",
    "Python is rich in library. Use expression like\n",
    "```python\n",
    "import xxxxxxx\n",
    "```\n",
    "or\n",
    "```python\n",
    "from xxxxxxx import yyyyyy\n",
    "```\n",
    "to import library provided that you know the name of your library xxxxxx and objects yyyyyyy in the library xxxxxxx.\n",
    "\n",
    "Package is not loaded at the beginning, you need to import it before using it.\n"
   ]
  },
  {
   "cell_type": "markdown",
   "metadata": {},
   "source": [
    "## Object-oriented programme"
   ]
  },
  {
   "cell_type": "markdown",
   "metadata": {},
   "source": [
    "## Example: Time module"
   ]
  },
  {
   "cell_type": "code",
   "execution_count": 4,
   "metadata": {},
   "outputs": [
    {
     "ename": "SyntaxError",
     "evalue": "Missing parentheses in call to 'print'. Did you mean print(\"Too bad\")? (<ipython-input-4-1a028bee3cb0>, line 2)",
     "output_type": "error",
     "traceback": [
      "\u001b[0;36m  File \u001b[0;32m\"<ipython-input-4-1a028bee3cb0>\"\u001b[0;36m, line \u001b[0;32m2\u001b[0m\n\u001b[0;31m    print \"Too bad\"\u001b[0m\n\u001b[0m                  ^\u001b[0m\n\u001b[0;31mSyntaxError\u001b[0m\u001b[0;31m:\u001b[0m Missing parentheses in call to 'print'. Did you mean print(\"Too bad\")?\n"
     ]
    }
   ],
   "source": [
    "time.sleep(0.5);\n",
    "print \"Too bad\""
   ]
  },
  {
   "cell_type": "code",
   "execution_count": 5,
   "metadata": {},
   "outputs": [
    {
     "ename": "SyntaxError",
     "evalue": "Missing parentheses in call to 'print'. Did you mean print(\"Now its work\")? (<ipython-input-5-c68cb05575ef>, line 3)",
     "output_type": "error",
     "traceback": [
      "\u001b[0;36m  File \u001b[0;32m\"<ipython-input-5-c68cb05575ef>\"\u001b[0;36m, line \u001b[0;32m3\u001b[0m\n\u001b[0;31m    print \"Now its work\"\u001b[0m\n\u001b[0m                       ^\u001b[0m\n\u001b[0;31mSyntaxError\u001b[0m\u001b[0;31m:\u001b[0m Missing parentheses in call to 'print'. Did you mean print(\"Now its work\")?\n"
     ]
    }
   ],
   "source": [
    "import time\n",
    "time.sleep(0.5);\n",
    "print \"Now its work\""
   ]
  },
  {
   "cell_type": "code",
   "execution_count": 6,
   "metadata": {},
   "outputs": [
    {
     "ename": "SyntaxError",
     "evalue": "Missing parentheses in call to 'print'. Did you mean print(\"We delete the time object to unload it from memory\")? (<ipython-input-6-49c19e8d45cc>, line 1)",
     "output_type": "error",
     "traceback": [
      "\u001b[0;36m  File \u001b[0;32m\"<ipython-input-6-49c19e8d45cc>\"\u001b[0;36m, line \u001b[0;32m1\u001b[0m\n\u001b[0;31m    print \"We delete the time object to unload it from memory\"\u001b[0m\n\u001b[0m                                                             ^\u001b[0m\n\u001b[0;31mSyntaxError\u001b[0m\u001b[0;31m:\u001b[0m Missing parentheses in call to 'print'. Did you mean print(\"We delete the time object to unload it from memory\")?\n"
     ]
    }
   ],
   "source": [
    "print \"We delete the time object to unload it from memory\"\n",
    "del time\n",
    "time.sleep(0.5);"
   ]
  },
  {
   "cell_type": "markdown",
   "metadata": {},
   "source": []
  },
  {
   "cell_type": "markdown",
   "metadata": {},
   "source": [
    "## Markdown\n",
    "\n",
    "Sometimes you may need to write down some notes for yourself. The Jupyter notebook provides convenient ways for you to describe the notes in a ``Markdown`` mark-up language. To learn this language, you can look at the following page: https://guides.github.com/features/mastering-markdown/ . GitHub utilizes Markdown extensively. "
   ]
  },
  {
   "cell_type": "markdown",
   "metadata": {},
   "source": [
    "To change the purpose of the cell, you can look up a widget like this: \n",
    "\n",
    "<div style=\"max-width: 100px;\"><select id=\"cell_type\" class=\"form-control select-xs\"><option value=\"code\">Code</option><option value=\"markdown\">Markdown</option><option value=\"raw\">Raw NBConvert</option><option value=\"heading\">Heading</option><option value=\"multiselect\" disabled=\"disabled\" style=\"display: none;\">-</option></select></div>\n",
    "\n",
    "and select ``Markdown``"
   ]
  },
  {
   "cell_type": "code",
   "execution_count": null,
   "metadata": {},
   "outputs": [],
   "source": []
  }
 ],
 "metadata": {
  "kernelspec": {
   "display_name": "Python 3",
   "language": "python",
   "name": "python3"
  },
  "language_info": {
   "codemirror_mode": {
    "name": "ipython",
    "version": 3
   },
   "file_extension": ".py",
   "mimetype": "text/x-python",
   "name": "python",
   "nbconvert_exporter": "python",
   "pygments_lexer": "ipython3",
   "version": "3.7.1"
  }
 },
 "nbformat": 4,
 "nbformat_minor": 2
}
