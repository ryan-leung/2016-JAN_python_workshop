{
 "cells": [
  {
   "cell_type": "markdown",
   "metadata": {},
   "source": [
    "# Python Intrinsic Data Type"
   ]
  },
  {
   "cell_type": "markdown",
   "metadata": {},
   "source": [
    "## Overview\n",
    "\n",
    "Python has these common built-in `Data Types`:\n",
    "https://docs.python.org/2/library/stdtypes.html\n",
    "\n",
    "* [Numeric](#Numeric)\n",
    "* [String](#String)\n",
    "* [Boolean](#Boolean)\n",
    "* [List](#List)\n",
    "* [Tuple](#Tuple)\n",
    "* [Dictionary](#Dictionary)\n",
    "* [Set](#Set)\n",
    "\n",
    "Python will set the variable type once it is assigned. You can change the variable type if the new variable value is set to another type. For example:"
   ]
  },
  {
   "cell_type": "code",
   "execution_count": 3,
   "metadata": {},
   "outputs": [
    {
     "name": "stdout",
     "output_type": "stream",
     "text": [
      "<type 'int'>\n",
      "<type 'str'>\n"
     ]
    }
   ],
   "source": [
    "var = 321 # Create an integer assignment.\n",
    "print type(var)\n",
    "var = 'HKU' # The new `var` variable is now become a string type.\n",
    "print type(var)"
   ]
  },
  {
   "cell_type": "markdown",
   "metadata": {},
   "source": [
    "## Numeric\n",
    "\n",
    "Numeric Types are basic data storage in nearly every programming languages. In python, they can be : `int`, `long`, `float` and `complex`.\n",
    "\n",
    "\n",
    "| Type | Format | Description |\n",
    "|:----:|:------:|:--------|\n",
    "| int | ```a = 10```| Signed Integer |\n",
    "| long | ```a = 345L``` | (L) Long integers |\n",
    "| float | ```a = 45.67``` | (.) Floating point real values |\n",
    "| complex | ```a = 3.14j``` | (j) Complex number, Python use `j` to denote the imaginary part. |\n",
    "\n",
    "Python numbers variables are created by the standard assign method:"
   ]
  },
  {
   "cell_type": "code",
   "execution_count": 20,
   "metadata": {},
   "outputs": [
    {
     "name": "stdout",
     "output_type": "stream",
     "text": [
      "68 is a <type 'int'>\n",
      "32385848583853453453255459395439 is a <type 'long'>\n",
      "45.67 is a <type 'float'>\n",
      "3.14j is a <type 'complex'>\n"
     ]
    }
   ],
   "source": [
    "a = 68\n",
    "print a,\"is a\",type(a)\n",
    "\n",
    "b = 32385848583853453453255459395439L\n",
    "print b,\"is a\",type(b)\n",
    "\n",
    "c = 45.67\n",
    "print c,\"is a\",type(c)\n",
    "\n",
    "d = 3.14j\n",
    "print d,\"is a\",type(d)"
   ]
  },
  {
   "cell_type": "markdown",
   "metadata": {},
   "source": [
    "### Arithematic\n",
    "\n",
    "Basic arithmatic functions \n",
    "You can print different variables at the same time with comma-separated, and the different arthimatic operations are showned"
   ]
  },
  {
   "cell_type": "code",
   "execution_count": 29,
   "metadata": {},
   "outputs": [
    {
     "name": "stdout",
     "output_type": "stream",
     "text": [
      "25 -5 150 0\n"
     ]
    }
   ],
   "source": [
    "a = 10\n",
    "b = 15\n",
    "print a + b , a - b , a * b , a / b"
   ]
  },
  {
   "cell_type": "markdown",
   "metadata": {},
   "source": [
    "## String\n",
    "\n",
    "String types are created by enclosing characters in quotes. Single quotes `'` double quotes `\"` can be used to denote a string in one-line. The triple quotes `\"\"\"` can define a multi-line string. They shall be in pairs."
   ]
  },
  {
   "cell_type": "code",
   "execution_count": 26,
   "metadata": {
    "collapsed": true
   },
   "outputs": [],
   "source": [
    "Name = 'Stephen Ng'\n",
    "Subject = \"Lunar eclipse open house today\"\n",
    "Email = \"ncy@astro.physics.hku.hk\"\n",
    "Content='''There will be a lunar eclipse observable in Hong Kong on Jan 31 starting at 19:48pm. The Department will arrange an open house for the observatory at the roof from 7pm.\n",
    "'''"
   ]
  },
  {
   "cell_type": "code",
   "execution_count": 28,
   "metadata": {},
   "outputs": [
    {
     "name": "stdout",
     "output_type": "stream",
     "text": [
      "from: Stephen Ng <ncy@astro.physics.hku.hk>\n",
      "subject: Lunar eclipse open house today\n",
      "-------------------------------------------\n",
      "There will be a lunar eclipse observable in Hong Kong on Jan 31 starting at 19:48pm. The Department will arrange an open house for the observatory at the roof from 7pm.\n",
      "\n"
     ]
    }
   ],
   "source": [
    "print \"from:\", Name, '<'+Email+'>'\n",
    "print \"subject:\", Subject\n",
    "print \"-------------------------------------------\"\n",
    "print Content"
   ]
  },
  {
   "cell_type": "code",
   "execution_count": 30,
   "metadata": {},
   "outputs": [
    {
     "name": "stdout",
     "output_type": "stream",
     "text": [
      "T\n",
      "here\n"
     ]
    }
   ],
   "source": [
    "print Content[0] # this will print the first character\n",
    "print Content[1:5] # this will print the substring"
   ]
  },
  {
   "cell_type": "markdown",
   "metadata": {},
   "source": [
    "### Boolean\n",
    "\n",
    "Boolean"
   ]
  },
  {
   "cell_type": "code",
   "execution_count": 31,
   "metadata": {},
   "outputs": [
    {
     "name": "stdout",
     "output_type": "stream",
     "text": [
      "True False True\n"
     ]
    }
   ],
   "source": [
    "b1 = True\n",
    "b2 = False\n",
    "b3 = (b1 and b2) or (b1 or b2)\n",
    "print b1,b2,b3"
   ]
  },
  {
   "cell_type": "code",
   "execution_count": 32,
   "metadata": {},
   "outputs": [
    {
     "data": {
      "text/plain": [
       "False"
      ]
     },
     "execution_count": 32,
     "metadata": {},
     "output_type": "execute_result"
    }
   ],
   "source": [
    "not True"
   ]
  },
  {
   "cell_type": "markdown",
   "metadata": {},
   "source": [
    "### More on Integer\n",
    "\n",
    "Because Python has arbitrarily large integers, there will not be integer overflow happened. An an integer overflow occurs when an arithmetic operation attempts to create a numeric value that is outside of the range that can be represented with a given number of bits – either larger than the maximum or lower than the minimum representable value. Integer can also be defined using octal or hexadecimial notation, theyare the same thing from the computer point-of-view"
   ]
  },
  {
   "cell_type": "code",
   "execution_count": 5,
   "metadata": {},
   "outputs": [
    {
     "name": "stdout",
     "output_type": "stream",
     "text": [
      "1 is a <type 'int'>\n",
      "23 is a <type 'int'>\n"
     ]
    }
   ],
   "source": [
    "# Octal integers\n",
    "a = 01\n",
    "b = 027\n",
    "c = 06645\n",
    "print a,\"is a\",type(a)\n",
    "\n",
    "# Hexadecimal integers\n",
    "a = 0x1\n",
    "b = 0x17\n",
    "c = 0xDA5 \n",
    "print b,\"is a\",type(b)"
   ]
  },
  {
   "cell_type": "code",
   "execution_count": null,
   "metadata": {
    "collapsed": true
   },
   "outputs": [],
   "source": []
  }
 ],
 "metadata": {
  "kernelspec": {
   "display_name": "Python [default]",
   "language": "python",
   "name": "python2"
  },
  "language_info": {
   "codemirror_mode": {
    "name": "ipython",
    "version": 2
   },
   "file_extension": ".py",
   "mimetype": "text/x-python",
   "name": "python",
   "nbconvert_exporter": "python",
   "pygments_lexer": "ipython2",
   "version": "2.7.13"
  }
 },
 "nbformat": 4,
 "nbformat_minor": 2
}
