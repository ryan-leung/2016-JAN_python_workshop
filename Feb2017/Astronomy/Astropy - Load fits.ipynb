{
 "cells": [
  {
   "cell_type": "code",
   "execution_count": 2,
   "metadata": {
    "collapsed": true
   },
   "outputs": [],
   "source": [
    "from astropy.io import fits\n",
    "from astropy.utils.data import download_file"
   ]
  },
  {
   "cell_type": "code",
   "execution_count": 3,
   "metadata": {
    "collapsed": false
   },
   "outputs": [
    {
     "name": "stdout",
     "output_type": "stream",
     "text": [
      "Downloading http://chandra.harvard.edu/photo/2013/vela/fits/vela_2.0-8.0_flux.fits [Done]\n"
     ]
    }
   ],
   "source": [
    "image_file = download_file('http://chandra.harvard.edu/photo/2013/vela/fits/vela_2.0-8.0_flux.fits', cache=True)"
   ]
  },
  {
   "cell_type": "markdown",
   "metadata": {},
   "source": [
    "We can open the fits file by fits.open() and check the info of the fits file by .info()"
   ]
  },
  {
   "cell_type": "code",
   "execution_count": 4,
   "metadata": {
    "collapsed": false
   },
   "outputs": [
    {
     "name": "stdout",
     "output_type": "stream",
     "text": [
      "Filename: /home/yanyan/.astropy/cache/download/3bc6e348e5bca65cae417559bd2c6b85\n",
      "No.    Name         Type      Cards   Dimensions   Format\n",
      "0    PRIMARY     PrimaryHDU     189   (588, 472)   float64   \n"
     ]
    }
   ],
   "source": [
    "hdu_list = fits.open(image_file)\n",
    "hdu_list.info()"
   ]
  },
  {
   "cell_type": "markdown",
   "metadata": {},
   "source": [
    "We get the data by the following command"
   ]
  },
  {
   "cell_type": "code",
   "execution_count": 8,
   "metadata": {
    "collapsed": false
   },
   "outputs": [
    {
     "name": "stdout",
     "output_type": "stream",
     "text": [
      "[[  3.57891936e-09   8.34289603e-10   0.00000000e+00 ...,   0.00000000e+00\n",
      "    1.13029266e-08   1.66015553e-08]\n",
      " [  0.00000000e+00   9.58613079e-09   6.73792224e-09 ...,   7.05635584e-09\n",
      "    2.39556844e-09   4.19313275e-10]\n",
      " [  3.72970966e-09   7.14046017e-09   6.35789505e-09 ...,   8.96702983e-09\n",
      "    4.60270655e-09   4.86753610e-09]\n",
      " ..., \n",
      " [  1.13655557e-09   3.81179035e-09   3.45669998e-09 ...,   0.00000000e+00\n",
      "    1.00146203e-09   1.23558768e-08]\n",
      " [  0.00000000e+00   2.70082504e-09   1.06594018e-09 ...,   4.79216329e-09\n",
      "    2.36669205e-09   7.71180067e-09]\n",
      " [  4.77691706e-09   8.34896416e-09   6.02902179e-09 ...,   5.10113207e-09\n",
      "    2.29898113e-09   0.00000000e+00]]\n"
     ]
    }
   ],
   "source": [
    "image_data = hdu_list[0].data\n",
    "print image_data"
   ]
  },
  {
   "cell_type": "markdown",
   "metadata": {},
   "source": [
    "We get the header by the following command"
   ]
  },
  {
   "cell_type": "code",
   "execution_count": 10,
   "metadata": {
    "collapsed": false
   },
   "outputs": [
    {
     "name": "stdout",
     "output_type": "stream",
     "text": [
      "<bound method Header.items of SIMPLE  =                    T / file does conform to FITS standard             \n",
      "BITPIX  =                  -64 / number of bits per data pixel                  \n",
      "NAXIS   =                    2 / number of data axes                            \n",
      "NAXIS1  =                  588 / length of data axis                            \n",
      "NAXIS2  =                  472 / length of data axis                            \n",
      "EXTEND  =                    T / FITS dataset may contain extensions            \n",
      "COMMENT   FITS (Flexible Image Transport System) format is defined in 'Astronomy\n",
      "COMMENT   and Astrophysics', volume 376, page 359; bibcode: 2001A&A...376..359H \n",
      "HDUNAME = 'vela_2.0-8.0_flux.fits' / ASCDM block name                           \n",
      "ASOLFILE= 'pcadf399999303N003_asol1.fits'                                       \n",
      "THRFILE = 'acisD2005-07-01evtspltN0002.fits'                                    \n",
      "ORIGIN  = 'ASC     '           / Source of FITS file                            \n",
      "CREATOR = 'dmimgcalc - Version CIAO 4.4' / tool that created this output        \n",
      "ASCDSVER= 'CIAO 4.4'           / ASCDS version number                           \n",
      "MJD_OBS =  5.5021583397856E+04 / Modified Julian date of observation            \n",
      "DS_IDENT= 'Merged  '           / dataset identifier                             \n",
      "TLMVER  = 'P009    '           / Telemetry revision number (IP&CL)              \n",
      "REVISION=                    3 / Processing version of data                     \n",
      "CHECKSUM= '5aAA8S845YAA5Y53'   / HDU checksum updated 2012-11-07T22:42:04       \n",
      "DATASUM = '1188128169'         / data unit checksum updated 2012-11-07T22:42:04 \n",
      "CONTENT = 'EVT2    '           / What data product                              \n",
      "HDUSPEC = 'ACIS Telemetry Products: Level 0 to ASC Archive ICD Rev 2.11' / ICD r\n",
      "HDUDOC  = 'ASC-FITS-2.0: McDowell, Rots: ASC FITS File Designers Guide'         \n",
      "HDUVERS = '1.0.0   '                                                            \n",
      "HDUCLASS= 'OGIP    '                                                            \n",
      "HDUCLAS1= 'EVENTS  '                                                            \n",
      "HDUCLAS2= 'ACCEPTED'                                                            \n",
      "PIX_ADJ = 'EDSER   '           / Subpixel adjustment algorithm                  \n",
      "RAND_SKY=  0.0000000000000E+00                                                  \n",
      "SUBPIXFL= 'acisD1999-07-22subpixN0001.fits'                                     \n",
      "RAND_PI =  1.0000000000000E+00                                                  \n",
      "DATE    = '2012-11-07T22:42:04' / Date and time of file creation                \n",
      "DATE-OBS= '2009-07-09T14:00:05' / Observation start date                        \n",
      "OBS_MODE= 'POINTING'           / Observation mode                               \n",
      "DATE-END= '2010-09-05T02:46:25' / Observation end date                          \n",
      "TIMESYS = 'TT      '           / Time system                                    \n",
      "MJDREF  =  5.0814000000000E+04 / [d] MJD zero point for times                   \n",
      "TIMEZERO=  0.0000000000000E+00 / [s] Clock correction                           \n",
      "TIMEUNIT= 's       '           / Time unit                                      \n",
      "DATACLAS= 'OBSERVED'           / default                                        \n",
      "RADESYS = 'ICRS    '           / default                                        \n",
      "BTIMCORR=  0.0000000000000E+00 / Correction applied to Basic Time rate (s)      \n",
      "TIMEREF = 'LOCAL   '           / Time reference (barycenter/local)              \n",
      "TASSIGN = 'SATELLITE'          / Time assigned by clock                         \n",
      "CLOCKAPP=                    T / default                                        \n",
      "SIM_X   = -6.8282252473119E-01 / [mm] SIM focus pos                             \n",
      "SIM_Y   =  0.0000000000000E+00 / [mm] SIM orthogonal axis pos                   \n",
      "SIM_Z   = -1.9014258036517E+02 / [mm] SIM translation stage pos                 \n",
      "FOC_LEN =  1.0070000000000E+04 / [mm] HRMA focal length                         \n",
      "TIERRELA=  1.0000000000000E-09 / default                                        \n",
      "TIERABSO=  5.0000000000000E-05 / default                                        \n",
      "TIMVERSN= 'ASC-FITS-2'         / Timing system definition                       \n",
      "TSTART  =  3.6353520557476E+08 / [s] Observation start time (MET)               \n",
      "GRATING = 'NONE    '           / Grating                                        \n",
      "DETNAM  = 'Merged  '           / Detector                                       \n",
      "RA_TARG =  1.2883625000000E+02 / [deg] Observer's specified target RA           \n",
      "DEC_TARG= -4.5176583000000E+01 / [deg] Observer's specified target Dec          \n",
      "DEFOCUS =  1.4449365687057E-03 / [mm] SIM defocus                               \n",
      "TSTOP   =  4.0004198513585E+08 / [s] Observation end time (MET)                 \n",
      "STARTOBT=  0.0000000000000E+00 / On-Board MET close to STARTMJF and STARTMNF    \n",
      "TIMEPIXR=  5.0000000000000E-01 / default                                        \n",
      "TIMEDEL =  3.2410400000000E+00 / [s] timedel Lev1                               \n",
      "ACSYS1  = 'CHIP:AXAF-ACIS-1.0' / reference for chip coord system                \n",
      "ACSYS2  = 'TDET:ACIS-2.2'      / reference for tiled detector coord system      \n",
      "ACSYS3  = 'DET:ASC-FP-1.1'     / reference for focal plane coord system         \n",
      "ACSYS4  = 'SKY:ASC-FP-1.1'     / reference for sky coord system                 \n",
      "GAINFILE= 'acisD2000-01-29gain_ctiN0006.fits'                                   \n",
      "CTI_CORR=                    T                                                  \n",
      "CTI_APP = 'PPPPPBPBPP'                                                          \n",
      "CTIFILE = 'acisD2002-08-01ctiN0007.fits'                                        \n",
      "MTLFILE = 'acisf12075_000N003_fptemp_egti1.fits'                                \n",
      "TGAINCOR= 'T       '                                                            \n",
      "TGAINFIL= 'acisD2010-08-01t_gainN0006.fits'                                     \n",
      "GRD_FILE= 'acisD1996-11-01gradeN0004.fits'                                      \n",
      "CORNERS =                    2 / num adjacent side pix > threshold to include co\n",
      "GRADESYS= 'ASCA    '           / grade system: ASCA, ACIS, or USER              \n",
      "BPIXFILE= 'acisf12075_000N003_bpix1.fits'                                       \n",
      "MISSION = 'AXAF    '           / Mission                                        \n",
      "TELESCOP= 'CHANDRA '           / Telescope                                      \n",
      "INSTRUME= 'ACIS    '           / Instrument                                     \n",
      "READMODE= 'TIMED   '           / Read mode                                      \n",
      "DATAMODE= 'FAINT   '           / Data mode                                      \n",
      "RUN_ID  =                    1 / Science run index                              \n",
      "FSW_VERS=                   48 / ACIS flight software version number            \n",
      "STARTBEP=            315212112 / BEP timer value at TSTART                      \n",
      "STOPBEP =            253043056 / BEP timer value at TSTOP                       \n",
      "FEP_ID  =                    0 / Front End Processor ID: 0-5                    \n",
      "CCD_ID  =                    2 / CCD ID: 0-9                                    \n",
      "TIMEDELA=  3.2410400000000E+00 / Inferred duration of primary exposure (s)      \n",
      "TIMEDELB=  0.0000000000000E+00 / Inferred duration of secondary exp. (s)        \n",
      "FLSHTIME=  0.0000000000000E+00 / [s]                                            \n",
      "EXPTIME =  3.2000000000000E+00 / [s]                                            \n",
      "DTYCYCLE=                    0                                                  \n",
      "FIRSTROW=                    1 / Index of first row of CCD (sub)array readout   \n",
      "NROWS   =                 1024 / Number of rows in (sub)array readout           \n",
      "FLSHTIMA=  0.0000000000000E+00 / Inferred duration of flush before primary fram \n",
      "FLSHTIMB=  0.0000000000000E+00 / Inferred duration of flush before secondary fr \n",
      "CYCLE   = 'P       '           / events from which exps? Prim/Second/Both       \n",
      "HISTNUM =                  632                                                  \n",
      "TITLE   = 'The Unique Dynamical Vela Pulsar Wind Nebula' / Proposal title       \n",
      "OBSERVER= 'Dr. George Pavlov'  / Principal investigator                         \n",
      "OBJECT  = 'Vela PWN'           / Source name                                    \n",
      "OBS_ID  = 'Merged  '           / Observation id                                 \n",
      "SEQ_NUM = 'Merged  '           / Sequence number                                \n",
      "ONTIME  =  8.8108228969980E+05 / [s] Sum of GTIs                                \n",
      "ONTIME7 =  4.4054114484990E+05 / [s] Sum of GTIs                                \n",
      "ONTIME2 =  0.0000000000000E+00 / [s] Sum of GTIs                                \n",
      "ONTIME5 =  0.0000000000000E+00 / [s] Sum of GTIs                                \n",
      "ONTIME6 =  0.0000000000000E+00 / [s] Sum of GTIs                                \n",
      "ONTIME3 =  0.0000000000000E+00 / [s] Sum of GTIs                                \n",
      "ONTIME8 =  0.0000000000000E+00 / [s] Sum of GTIs                                \n",
      "LIVETIME=  8.6992549522356E+05 / [s] Livetime                                   \n",
      "LIVTIME7=  4.3496274761178E+05 / [s] Livetime                                   \n",
      "LIVTIME2=  0.0000000000000E+00 / [s] Livetime                                   \n",
      "LIVTIME5=  0.0000000000000E+00 / [s] Livetime                                   \n",
      "LIVTIME6=  0.0000000000000E+00 / [s] Livetime                                   \n",
      "LIVTIME3=  0.0000000000000E+00 / [s] Livetime                                   \n",
      "LIVTIME8=  0.0000000000000E+00 / [s] Livetime                                   \n",
      "EXPOSURE=  4.3497374761178E+05 / [s] Exposure time                              \n",
      "EXPOSUR7=  4.3496274761178E+05 / [s] Exposure time                              \n",
      "EXPOSUR2=  0.0000000000000E+00 / [s] Exposure time                              \n",
      "EXPOSUR5=  0.0000000000000E+00 / [s] Exposure time                              \n",
      "EXPOSUR6=  0.0000000000000E+00 / [s] Exposure time                              \n",
      "EXPOSUR3=  0.0000000000000E+00 / [s] Exposure time                              \n",
      "EXPOSUR8=  0.0000000000000E+00 / [s] Exposure time                              \n",
      "DTCOR   =  9.8733739787229E-01 / Dead time correction                           \n",
      "ASPTYPE = 'KALMAN  '                                                            \n",
      "BIASFIL2= 'acisf399998116N003_0_bias0.fits' / bias file used: CCD 2             \n",
      "BIASFIL7= 'acisf399998116N003_1_bias0.fits' / bias file used: CCD 7             \n",
      "BIASFIL5= 'acisf399998116N003_2_bias0.fits' / bias file used: CCD 5             \n",
      "FP_TEMP =  1.5344601440000E+02 / [K] Focal Plane Temperature                    \n",
      "BIASFIL6= 'acisf399998116N003_3_bias0.fits' / bias file used: CCD 6             \n",
      "BIASFIL3= 'acisf399998116N003_4_bias0.fits' / bias file used: CCD 3             \n",
      "BIASFIL8= 'acisf399998116N003_5_bias0.fits' / bias file used: CCD 8             \n",
      "AIMPFILE= 'telD1999-07-23aimptsN0002.fits'                                      \n",
      "GEOMFILE= 'telD1999-07-23geomN0006.fits'                                        \n",
      "SKYFILE = 'telD1999-07-23skyN0002.fits'                                         \n",
      "TDETFILE= 'telD1999-07-23tdetN0001.fits'                                        \n",
      "SHELLFIL= 'telD1999-07-23sgeomN0001.fits'                                       \n",
      "FLTFILE = 'acisf12075_000N003_flt1.fits'                                        \n",
      "MASKFILE= 'acisf12075_000N003_msk1.fits'                                        \n",
      "PBKFILE = 'acisf399999425N003_pbk0.fits'                                        \n",
      "DY_AVG  =  8.6558815057000E-01 / [mm] Mean DY during observation                \n",
      "DZ_AVG  =  9.1717584578000E-01 / [mm] Mean DZ during observation                \n",
      "DTH_AVG = -3.0294623866000E-03 / [deg] Mean DTHETA during observation           \n",
      "OCLKPAIR=                    8 / # of pairs of overclock pixels per output      \n",
      "ORC_MODE=                    0 / Output register clocking mode                  \n",
      "SUM_2X2 =                    0 / On-chip summing. 0:None; 1:Sum 2x2             \n",
      "FEP_CCD = '275638  '           / CCD to FEPID mapping, fep0 is left most digit  \n",
      "CALDBVER= '4.5.0   '                                                            \n",
      "WCSTY1P = 'PHYSICAL'                                                            \n",
      "WCSTY2P = 'PHYSICAL'                                                            \n",
      "HISTORY  TOOL  :dmimgcalc   2012-11-07T22:42:04                         ASC00622\n",
      "HISTORY  PARM  :infile=vela_2.0-8.0_image_clean.fits                    ASC00623\n",
      "HISTORY  PARM  :infile2=vela_5.0_image_expmap.fits                      ASC00624\n",
      "HISTORY  PARM  :outfile=vela_2.0-8.0_flux.fits                          ASC00625\n",
      "HISTORY  PARM  :operation=div                                           ASC00626\n",
      "HISTORY  PARM  :weight=1                                                ASC00627\n",
      "HISTORY  PARM  :weight2=1                                               ASC00628\n",
      "HISTORY  PARM  :lookupTab=/Users/depasq/LocalApps/ciao-4.4/data/dmmerge_ASC00629\n",
      "HISTORY  CONT  :header_lookup.txt                                       ASC00630\n",
      "HISTORY  PARM  :clobber=yes                                             ASC00631\n",
      "HISTORY  PARM  :verbose=0                                               ASC00632\n",
      "MTYPE1  = 'SKY     '           / DM Keyword: Descriptor name.                   \n",
      "MFORM1  = 'X,Y     '           / DM Keyword: Descriptor value.                  \n",
      "CTYPE1P = 'X       '                                                            \n",
      "CRVAL1P =  3.9572430458512E+03                                                  \n",
      "CRPIX1P =  2.9400000000000E+02                                                  \n",
      "CDELT1P =  1.0000000000000E+00                                                  \n",
      "LTV1    = -3.6632430458512E+03                                                  \n",
      "LTM1_1  =  1.0000000000000E+00                                                  \n",
      "CTYPE2P = 'Y       '                                                            \n",
      "CRVAL2P =  4.1919555257836E+03                                                  \n",
      "CRPIX2P =  2.3600000000000E+02                                                  \n",
      "CDELT2P =  1.0000000000000E+00                                                  \n",
      "LTV2    = -3.9559555257836E+03                                                  \n",
      "LTM2_2  =  1.0000000000000E+00                                                  \n",
      "MTYPE2  = 'EQPOS   '           / DM Keyword: Descriptor name.                   \n",
      "MFORM2  = 'RA,DEC  '           / [degree]                                       \n",
      "CTYPE1  = 'RA---TAN'                                                            \n",
      "CRVAL1  =  1.2882334000000E+02                                                  \n",
      "CRPIX1  =  2.9400000000000E+02                                                  \n",
      "CDELT1  = -1.3666666666667E-04                                                  \n",
      "CUNIT1  = 'degree  '                                                            \n",
      "CTYPE2  = 'DEC--TAN'                                                            \n",
      "CRVAL2  = -4.5176306000000E+01                                                  \n",
      "CRPIX2  =  2.3600000000000E+02                                                  \n",
      "CDELT2  =  1.3666666666667E-04                                                  \n",
      "CUNIT2  = 'degree  '                                                            >\n"
     ]
    }
   ],
   "source": [
    "image_header = hdu_list[0].header\n",
    "print image_header.items"
   ]
  },
  {
   "cell_type": "markdown",
   "metadata": {},
   "source": [
    "We can get individual header items by calling it as dictionary"
   ]
  },
  {
   "cell_type": "code",
   "execution_count": 12,
   "metadata": {
    "collapsed": false
   },
   "outputs": [
    {
     "name": "stdout",
     "output_type": "stream",
     "text": [
      "128.82334\n",
      "-45.176306\n"
     ]
    }
   ],
   "source": [
    "print image_header['CRVAL1']\n",
    "print image_header['CRVAL2']"
   ]
  },
  {
   "cell_type": "code",
   "execution_count": null,
   "metadata": {
    "collapsed": true
   },
   "outputs": [],
   "source": []
  }
 ],
 "metadata": {
  "kernelspec": {
   "display_name": "Python 2",
   "language": "python",
   "name": "python2"
  },
  "language_info": {
   "codemirror_mode": {
    "name": "ipython",
    "version": 2
   },
   "file_extension": ".py",
   "mimetype": "text/x-python",
   "name": "python",
   "nbconvert_exporter": "python",
   "pygments_lexer": "ipython2",
   "version": "2.7.11"
  }
 },
 "nbformat": 4,
 "nbformat_minor": 0
}
