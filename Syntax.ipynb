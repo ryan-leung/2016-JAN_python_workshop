{
 "metadata": {
  "name": "",
  "signature": "sha256:e322cd35cdb9b768b86598585437905730b40343c9f25af3b3d87b016846f90e"
 },
 "nbformat": 3,
 "nbformat_minor": 0,
 "worksheets": [
  {
   "cells": [
    {
     "cell_type": "markdown",
     "metadata": {},
     "source": [
      "#1. Run a code cell using Shift-Enter or <button class=\"btn\" title=\"Run Cell\" id=\"run_b\"><i class=\"icon-play\"></i></button> button in the toolbar"
     ]
    },
    {
     "cell_type": "markdown",
     "metadata": {},
     "source": [
      "The \"print\" command print your string to the terminal"
     ]
    },
    {
     "cell_type": "code",
     "collapsed": false,
     "input": [
      "print \"And Enter makes a new line\""
     ],
     "language": "python",
     "metadata": {},
     "outputs": [
      {
       "output_type": "stream",
       "stream": "stdout",
       "text": [
        "And Enter makes a new line\n"
       ]
      }
     ],
     "prompt_number": 11
    },
    {
     "cell_type": "markdown",
     "metadata": {},
     "source": [
      "Use %s to act as a placeholder in output"
     ]
    },
    {
     "cell_type": "code",
     "collapsed": false,
     "input": [
      "print \"A %s C\" % \"F\""
     ],
     "language": "python",
     "metadata": {},
     "outputs": [
      {
       "output_type": "stream",
       "stream": "stdout",
       "text": [
        "A F C\n"
       ]
      }
     ],
     "prompt_number": 13
    },
    {
     "cell_type": "markdown",
     "metadata": {},
     "source": [
      "Use a bracket at the end if you use two or more placeholders"
     ]
    },
    {
     "cell_type": "code",
     "collapsed": false,
     "input": [
      "print \"A %s C %s\" % (\"B\",\"D\") "
     ],
     "language": "python",
     "metadata": {},
     "outputs": [
      {
       "output_type": "stream",
       "stream": "stdout",
       "text": [
        "A B C D\n"
       ]
      }
     ],
     "prompt_number": 4
    },
    {
     "cell_type": "markdown",
     "metadata": {},
     "source": [
      "If your input is not a string, in this case it is an integer, it will convert to string automatically"
     ]
    },
    {
     "cell_type": "code",
     "collapsed": false,
     "input": [
      "print \"A %s C %s\" % (1,2) "
     ],
     "language": "python",
     "metadata": {},
     "outputs": [
      {
       "output_type": "stream",
       "stream": "stdout",
       "text": [
        "A 1 C 2\n"
       ]
      }
     ],
     "prompt_number": 5
    },
    {
     "cell_type": "markdown",
     "metadata": {},
     "source": [
      "Same for float numbers"
     ]
    },
    {
     "cell_type": "code",
     "collapsed": false,
     "input": [
      "print \"A %s C %s\" % (1e-8,2e6) "
     ],
     "language": "python",
     "metadata": {},
     "outputs": [
      {
       "output_type": "stream",
       "stream": "stdout",
       "text": [
        "A 1e-08 C 2000000.0\n"
       ]
      }
     ],
     "prompt_number": 6
    },
    {
     "cell_type": "markdown",
     "metadata": {},
     "source": [
      "#2. Import different installed packages"
     ]
    },
    {
     "cell_type": "markdown",
     "metadata": {},
     "source": [
      "Most of the package is not loaded at the beginning, you need to import it before using it "
     ]
    },
    {
     "cell_type": "code",
     "collapsed": false,
     "input": [
      "time.sleep(0.5);\n",
      "print \"Too bad\""
     ],
     "language": "python",
     "metadata": {},
     "outputs": [
      {
       "ename": "NameError",
       "evalue": "name 'time' is not defined",
       "output_type": "pyerr",
       "traceback": [
        "\u001b[1;31m---------------------------------------------------------------------------\u001b[0m\n\u001b[1;31mNameError\u001b[0m                                 Traceback (most recent call last)",
        "\u001b[1;32m<ipython-input-3-ef309ab19b8b>\u001b[0m in \u001b[0;36m<module>\u001b[1;34m()\u001b[0m\n\u001b[1;32m----> 1\u001b[1;33m \u001b[0mtime\u001b[0m\u001b[1;33m.\u001b[0m\u001b[0msleep\u001b[0m\u001b[1;33m(\u001b[0m\u001b[1;36m0.5\u001b[0m\u001b[1;33m)\u001b[0m\u001b[1;33m;\u001b[0m\u001b[1;33m\u001b[0m\u001b[0m\n\u001b[0m\u001b[0;32m      2\u001b[0m \u001b[1;32mprint\u001b[0m \u001b[1;34m\"Too bad\"\u001b[0m\u001b[1;33m\u001b[0m\u001b[0m\n",
        "\u001b[1;31mNameError\u001b[0m: name 'time' is not defined"
       ]
      }
     ],
     "prompt_number": 3
    },
    {
     "cell_type": "markdown",
     "metadata": {},
     "source": [
      "Note that Python is an object-oriented language, the time.sleep() represent an object \"time\" that has its predefined function sleep(), and the dot is socalled the dot operator"
     ]
    },
    {
     "cell_type": "code",
     "collapsed": false,
     "input": [
      "import time\n",
      "time.sleep(0.5);\n",
      "print \"Now its work\""
     ],
     "language": "python",
     "metadata": {},
     "outputs": [
      {
       "output_type": "stream",
       "stream": "stdout",
       "text": [
        "Now its work\n"
       ]
      }
     ],
     "prompt_number": 9
    },
    {
     "cell_type": "markdown",
     "metadata": {},
     "source": [
      "Onced the package is imported, it will stay in the memory before you closed your programme"
     ]
    },
    {
     "cell_type": "code",
     "collapsed": false,
     "input": [
      "time.sleep(0.5);\n",
      "print \"Now its work again\""
     ],
     "language": "python",
     "metadata": {},
     "outputs": [
      {
       "output_type": "stream",
       "stream": "stdout",
       "text": [
        "Now its work again\n"
       ]
      }
     ],
     "prompt_number": 10
    },
    {
     "cell_type": "markdown",
     "metadata": {},
     "source": [
      "#3. Declare variables"
     ]
    },
    {
     "cell_type": "markdown",
     "metadata": {},
     "source": [
      "##Integer"
     ]
    },
    {
     "cell_type": "markdown",
     "metadata": {},
     "source": [
      "Declaring variable is simple, just put an equal sign to a variable name. Print it with the variable name:"
     ]
    },
    {
     "cell_type": "code",
     "collapsed": false,
     "input": [
      "i1 = 10\n",
      "print i1"
     ],
     "language": "python",
     "metadata": {},
     "outputs": [
      {
       "output_type": "stream",
       "stream": "stdout",
       "text": [
        "10\n"
       ]
      }
     ],
     "prompt_number": 5
    },
    {
     "cell_type": "markdown",
     "metadata": {},
     "source": [
      "You can print different variables at the same time with comma-separated, and the different arthimatic operations are showned"
     ]
    },
    {
     "cell_type": "code",
     "collapsed": false,
     "input": [
      "i1 = 10\n",
      "i2 = 15\n",
      "print i1 + i2 , i1 - i2 , i1 * i2 , i2 / i1"
     ],
     "language": "python",
     "metadata": {},
     "outputs": [
      {
       "output_type": "stream",
       "stream": "stdout",
       "text": [
        "25 -5 150 1\n"
       ]
      }
     ],
     "prompt_number": 6
    },
    {
     "cell_type": "markdown",
     "metadata": {},
     "source": [
      "##Float"
     ]
    },
    {
     "cell_type": "markdown",
     "metadata": {},
     "source": [
      "f1 miss the zero, f2 is a usual float number, f3 and f4 use scientific notation, all are float numbers"
     ]
    },
    {
     "cell_type": "code",
     "collapsed": false,
     "input": [
      "f1 = 10.\n",
      "f2 = 10.2\n",
      "f3 = 10e9\n",
      "f4 = 10e-9\n",
      "print f1,f2,f3,f4"
     ],
     "language": "python",
     "metadata": {},
     "outputs": [
      {
       "output_type": "stream",
       "stream": "stdout",
       "text": [
        "10.0 10.2 10000000000.0 1e-08\n"
       ]
      }
     ],
     "prompt_number": 7
    },
    {
     "cell_type": "markdown",
     "metadata": {},
     "source": [
      "And the different arthimatic operations of floats are showned"
     ]
    },
    {
     "cell_type": "code",
     "collapsed": false,
     "input": [
      "f1 = 10e9\n",
      "f2 = 10e-9\n",
      "print f1 + f2 , f1 - f2 , f1 * f2 , f2 / f1"
     ],
     "language": "python",
     "metadata": {},
     "outputs": [
      {
       "output_type": "stream",
       "stream": "stdout",
       "text": [
        "10000000000.0 10000000000.0 100.0 1e-18\n"
       ]
      }
     ],
     "prompt_number": 8
    },
    {
     "cell_type": "markdown",
     "metadata": {},
     "source": [
      "##String"
     ]
    },
    {
     "cell_type": "markdown",
     "metadata": {},
     "source": [
      "s1 use double quote, s2 use single quote, s3 concatenate s1 and s2"
     ]
    },
    {
     "cell_type": "code",
     "collapsed": false,
     "input": [
      "s1 = \"HK\"\n",
      "s2 = 'U'\n",
      "s3 = s1 + s2\n",
      "print s1,s2,s3"
     ],
     "language": "python",
     "metadata": {},
     "outputs": [
      {
       "output_type": "stream",
       "stream": "stdout",
       "text": [
        "HK U HKU\n"
       ]
      }
     ],
     "prompt_number": 9
    },
    {
     "cell_type": "markdown",
     "metadata": {},
     "source": [
      "The dot replace function replace a word \"Hong Kong\" in s1 to \"Pok Fu Lam\""
     ]
    },
    {
     "cell_type": "code",
     "collapsed": false,
     "input": [
      "s1 = \"The University of Hong Kong\"\n",
      "print s1.replace(\"Hong Kong\",\"Pok Fu Lam\")\n",
      "print s1"
     ],
     "language": "python",
     "metadata": {},
     "outputs": [
      {
       "output_type": "stream",
       "stream": "stdout",
       "text": [
        "The University of Pok Fu Lam\n",
        "The University of Hong Kong\n"
       ]
      }
     ],
     "prompt_number": 15
    },
    {
     "cell_type": "markdown",
     "metadata": {},
     "source": [
      "Split is a powerful function that split a string with a character into a list (array)"
     ]
    },
    {
     "cell_type": "code",
     "collapsed": false,
     "input": [
      "s1 = \"The University of Hong Kong\"\n",
      "print s1.split()\n",
      "s2 = \"11 12 13 14 15\"\n",
      "print s2.split()\n",
      "s3 = \"11.12,13.14,15\"\n",
      "print s3.split(',')"
     ],
     "language": "python",
     "metadata": {},
     "outputs": [
      {
       "output_type": "stream",
       "stream": "stdout",
       "text": [
        "['The', 'University', 'of', 'Hong', 'Kong']\n",
        "['11', '12', '13', '14', '15']\n",
        "['11.12', '13.14', '15']\n"
       ]
      }
     ],
     "prompt_number": 19
    },
    {
     "cell_type": "markdown",
     "metadata": {},
     "source": [
      "##Boolean"
     ]
    },
    {
     "cell_type": "markdown",
     "metadata": {},
     "source": [
      "Boolean can be defined by True or False, and support basic logical operation."
     ]
    },
    {
     "cell_type": "code",
     "collapsed": false,
     "input": [
      "b1 = True\n",
      "b2 = False\n",
      "b3 = (b1 and b2) or (b1 or b2)\n",
      "print b1,b2,b3"
     ],
     "language": "python",
     "metadata": {},
     "outputs": [
      {
       "output_type": "stream",
       "stream": "stdout",
       "text": [
        "True False True\n"
       ]
      }
     ],
     "prompt_number": 14
    },
    {
     "cell_type": "code",
     "collapsed": false,
     "input": [],
     "language": "python",
     "metadata": {},
     "outputs": []
    }
   ],
   "metadata": {}
  }
 ]
}