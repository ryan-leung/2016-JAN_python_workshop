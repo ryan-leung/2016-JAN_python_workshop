{
 "cells": [
  {
   "cell_type": "markdown",
   "metadata": {},
   "source": [
    "# Python Conditionals And Loops"
   ]
  },
  {
   "cell_type": "markdown",
   "metadata": {},
   "source": [
    "\n",
    "## Control Flow\n",
    "\n",
    "Control flow concerns how programs proceed in their execution to arrive a desired outcome. Often times, we write programs to make decisions based on certain conditions such as input from the user or values in the data. Different conditions lead to a variety scenarios. Programs can make choices concerning meteorological conditions such as wind velocity. Consider a Python program that draws wind barbs on a map. It will have to take actions depending on the velocity of the wind data. The program will have to draw a flag for winds of greater than 47 knots but only one barb for 10 knot winds.\n",
    "\n",
    "In addition, control flow can also concern a program repeatedly executing a set of statements while proceeding through a list of values or while some condition has not yet been met. A rawinsonde may send data until a certain pressure level has been attained, for example.\n",
    "\n",
    "Control flow can be complex and programmers must learn to manage that complexity and keep it in check in order to write programs that can be understood by others and maintained in the long term. One way of managing that complexity is by delegating the control flow to functions to get a specific task done (e.g., unit conversion). Functions make code more readable, and easier to maintain as well as create units of reusable code that can be used in other parts of your program or in different programs.\n",
    "\n",
    "In this section, we will examine three Jupyter notebooks on control flow: one that examines conditional statements, one that makes use of loops, and finally a notebook that employs functions to improve the readability and reuse of code.\n"
   ]
  },
  {
   "cell_type": "markdown",
   "metadata": {},
   "source": [
    "## Conditionals\n",
    "A conditional statement is a programming concept that describes whether a region of code runs based on if a condition is true or false. The keywords involved in conditional statements are if, and optionally elif and else."
   ]
  },
  {
   "cell_type": "markdown",
   "metadata": {},
   "source": [
    "## Loops"
   ]
  },
  {
   "cell_type": "markdown",
   "metadata": {},
   "source": [
    "### The for statement\n",
    "\n",
    "Consider the scenario where we are examining wind observations related to a site being considered for wind energy production. The wind data consist of a time series of tuples containing the time of the observation and the wind gusts in meters per second. Wind turbines can handle winds up to 40-72 meters per second before measures have to be taken to limit their rotation. The goal here is to find the times at which the observations exceeded 35 meters per second.\n",
    "\n",
    "Consider the following wind gust data. Values of -1 are missing observations. UTC times are represented as strings."
   ]
  },
  {
   "cell_type": "markdown",
   "metadata": {},
   "source": [
    "### While Loops"
   ]
  },
  {
   "cell_type": "code",
   "execution_count": null,
   "metadata": {},
   "outputs": [],
   "source": []
  }
 ],
 "metadata": {
  "kernelspec": {
   "display_name": "Python 2",
   "language": "python",
   "name": "python2"
  },
  "language_info": {
   "codemirror_mode": {
    "name": "ipython",
    "version": 2
   },
   "file_extension": ".py",
   "mimetype": "text/x-python",
   "name": "python",
   "nbconvert_exporter": "python",
   "pygments_lexer": "ipython2",
   "version": "2.7.14"
  }
 },
 "nbformat": 4,
 "nbformat_minor": 2
}
