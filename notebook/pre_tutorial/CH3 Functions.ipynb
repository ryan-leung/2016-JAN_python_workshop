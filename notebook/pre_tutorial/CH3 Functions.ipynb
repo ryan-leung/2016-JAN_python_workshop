{
 "cells": [
  {
   "cell_type": "markdown",
   "metadata": {},
   "source": [
    "# CH3 Functions"
   ]
  },
  {
   "cell_type": "markdown",
   "metadata": {},
   "source": [
    "calling a function: function_name(parameters)"
   ]
  },
  {
   "cell_type": "markdown",
   "metadata": {},
   "source": [
    "## Basic function"
   ]
  },
  {
   "cell_type": "code",
   "execution_count": 1,
   "metadata": {
    "collapsed": false
   },
   "outputs": [],
   "source": [
    "def hello(a,b):\n",
    "    return a+b"
   ]
  },
  {
   "cell_type": "code",
   "execution_count": 2,
   "metadata": {
    "collapsed": false
   },
   "outputs": [
    {
     "name": "stdout",
     "output_type": "stream",
     "text": [
      "3\n"
     ]
    }
   ],
   "source": [
    "print hello(1,2)"
   ]
  },
  {
   "cell_type": "code",
   "execution_count": 3,
   "metadata": {
    "collapsed": false
   },
   "outputs": [
    {
     "name": "stdout",
     "output_type": "stream",
     "text": [
      "ab\n"
     ]
    }
   ],
   "source": [
    "print hello('a','b')"
   ]
  },
  {
   "cell_type": "markdown",
   "metadata": {},
   "source": [
    "Remember indentation is important"
   ]
  },
  {
   "cell_type": "code",
   "execution_count": 4,
   "metadata": {
    "collapsed": false
   },
   "outputs": [],
   "source": [
    "def hello1(a,b):\n",
    "    return a+b"
   ]
  },
  {
   "cell_type": "markdown",
   "metadata": {},
   "source": [
    "Use a tap or specific amount of white space. Use one of it for the whole script, not both."
   ]
  },
  {
   "cell_type": "markdown",
   "metadata": {},
   "source": [
    "<img src=\"http://www.emacswiki.org/pics/static/TabsSpacesBoth.png\" />"
   ]
  },
  {
   "cell_type": "markdown",
   "metadata": {},
   "source": [
    "## Recursive function\n",
    "\n",
    "recursive function is an easy way to solve some mathemtical problems but performance varies. The following is an example of a recursive function calculating the nth number in the Fibonacci Sequence."
   ]
  },
  {
   "cell_type": "code",
   "execution_count": 5,
   "metadata": {
    "collapsed": false
   },
   "outputs": [
    {
     "name": "stdout",
     "output_type": "stream",
     "text": [
      "55\n"
     ]
    }
   ],
   "source": [
    "def Fibonacci(n):\n",
    "    if n < 2: \n",
    "        return n\n",
    "    else: \n",
    "        return Fibonacci(n-1)+Fibonacci(n-2)\n",
    "print Fibonacci(10)"
   ]
  },
  {
   "cell_type": "code",
   "execution_count": 6,
   "metadata": {
    "collapsed": false
   },
   "outputs": [
    {
     "name": "stdout",
     "output_type": "stream",
     "text": [
      "55\n"
     ]
    }
   ],
   "source": [
    "def Fibonacci(n):\n",
    "    return n if n < 2 else Fibonacci(n-1)+Fibonacci(n-2)\n",
    "print Fibonacci(10)"
   ]
  },
  {
   "cell_type": "markdown",
   "metadata": {},
   "source": [
    "## Very important: \"call-by-value\" or \"call-by-reference\"?\n",
    "It is not a simple question, it often confused many people..We now try to do some testing.."
   ]
  },
  {
   "cell_type": "code",
   "execution_count": 7,
   "metadata": {
    "collapsed": false
   },
   "outputs": [
    {
     "name": "stdout",
     "output_type": "stream",
     "text": [
      "Alice\n",
      "Alice\n"
     ]
    }
   ],
   "source": [
    "a = 'Alice'\n",
    "print a\n",
    "def change_my_name(my_name):\n",
    "    my_name = 'Bob'\n",
    "change_my_name(a)\n",
    "print a"
   ]
  },
  {
   "cell_type": "code",
   "execution_count": 8,
   "metadata": {
    "collapsed": false
   },
   "outputs": [
    {
     "name": "stdout",
     "output_type": "stream",
     "text": [
      "Alice\n",
      "Bob\n"
     ]
    }
   ],
   "source": [
    "a = 'Alice'\n",
    "print a\n",
    "def change_my_name(my_name):\n",
    "    my_name = 'Bob'\n",
    "    return my_name\n",
    "b = change_my_name(a)\n",
    "print b"
   ]
  },
  {
   "cell_type": "markdown",
   "metadata": {},
   "source": [
    "## So is it \"call-by-value\"? The value does not changed?\n",
    "## But Try this:"
   ]
  },
  {
   "cell_type": "code",
   "execution_count": 9,
   "metadata": {
    "collapsed": false
   },
   "outputs": [
    {
     "name": "stdout",
     "output_type": "stream",
     "text": [
      "['Alice', 'Bob', 'Christ', 'Dora']\n",
      "['Not Alice', 'Bob', 'Christ', 'Dora']\n"
     ]
    }
   ],
   "source": [
    "a_list_of_names = ['Alice','Bob','Christ','Dora']\n",
    "print a_list_of_names\n",
    "\n",
    "def change_a_value(something):\n",
    "    something[0] = 'Not Alice'\n",
    "    \n",
    "change_a_value(a_list_of_names)\n",
    "print a_list_of_names"
   ]
  },
  {
   "cell_type": "markdown",
   "metadata": {},
   "source": [
    "## Confused? Why the list is changeable but the string is not?"
   ]
  },
  {
   "cell_type": "code",
   "execution_count": 10,
   "metadata": {
    "collapsed": false
   },
   "outputs": [
    {
     "name": "stdout",
     "output_type": "stream",
     "text": [
      "['Alice', 'Bob', 'Christ', 'Dora']\n",
      "['Alice', 'Bob', 'Christ', 'Dora']\n",
      "After change_a_value:\n",
      "['Not Alice', 'Bob', 'Christ', 'Dora']\n",
      "['Not Alice', 'Bob', 'Christ', 'Dora']\n",
      "Is 'a_new_list_of_names' same as 'a_list_of_names' ?\n",
      "True\n"
     ]
    }
   ],
   "source": [
    "a_list_of_names = ['Alice','Bob','Christ','Dora']\n",
    "print a_list_of_names\n",
    "a_new_list_of_names = a_list_of_names\n",
    "print a_new_list_of_names\n",
    "\n",
    "def change_a_value(something):\n",
    "    something[0] = 'Not Alice'\n",
    "change_a_value(a_list_of_names)\n",
    "\n",
    "print \"After change_a_value:\"\n",
    "print a_list_of_names\n",
    "print a_new_list_of_names\n",
    "\n",
    "print \"Is 'a_new_list_of_names' same as 'a_list_of_names' ?\"\n",
    "print a_new_list_of_names is a_list_of_names"
   ]
  },
  {
   "cell_type": "markdown",
   "metadata": {},
   "source": [
    "## More Confused? Why the function return the same object, is it say that it is call-by-reference?"
   ]
  },
  {
   "cell_type": "code",
   "execution_count": 11,
   "metadata": {
    "collapsed": false
   },
   "outputs": [
    {
     "name": "stdout",
     "output_type": "stream",
     "text": [
      "Is 'some_guy' same as the first element in a_list_of_names ?\n",
      "True\n"
     ]
    }
   ],
   "source": [
    "some_guy = 'Alice'\n",
    "a_list_of_names = []\n",
    "a_list_of_names.append(some_guy)\n",
    "print \"Is 'some_guy' same as the first element in a_list_of_names ?\"\n",
    "print (some_guy is a_list_of_names[0])"
   ]
  },
  {
   "cell_type": "code",
   "execution_count": 12,
   "metadata": {
    "collapsed": false
   },
   "outputs": [
    {
     "name": "stdout",
     "output_type": "stream",
     "text": [
      "Is 'a_list_of_names' same as the 'another_list_of_names' ?\n",
      "True\n"
     ]
    }
   ],
   "source": [
    "another_list_of_names = a_list_of_names\n",
    "print \"Is 'a_list_of_names' same as the 'another_list_of_names' ?\"\n",
    "print (a_list_of_names is another_list_of_names)"
   ]
  },
  {
   "cell_type": "code",
   "execution_count": 13,
   "metadata": {
    "collapsed": false
   },
   "outputs": [
    {
     "name": "stdout",
     "output_type": "stream",
     "text": [
      "We have added Bob to the list, now is 'a_list_of_names' same as the 'another_list_of_names' ? \n",
      "True\n"
     ]
    }
   ],
   "source": [
    "some_guy = 'Bob'\n",
    "another_list_of_names.append(some_guy)\n",
    "print \"We have added Bob to the list, now is 'a_list_of_names' same as the 'another_list_of_names' ? \"\n",
    "print (a_list_of_names is another_list_of_names)"
   ]
  },
  {
   "cell_type": "code",
   "execution_count": 14,
   "metadata": {
    "collapsed": false
   },
   "outputs": [
    {
     "name": "stdout",
     "output_type": "stream",
     "text": [
      "('Bob', ['Alice', 'Bob'], ['Alice', 'Bob'])\n",
      "('Christ', ['Alice', 'Bob'], ['Alice', 'Bob'])\n"
     ]
    }
   ],
   "source": [
    "print (some_guy,a_list_of_names,another_list_of_names)\n",
    "some_guy = 'Christ'\n",
    "print (some_guy,a_list_of_names,another_list_of_names)"
   ]
  },
  {
   "cell_type": "markdown",
   "metadata": {
    "collapsed": true
   },
   "source": [
    "## You can see how the list element and the string object changing."
   ]
  },
  {
   "cell_type": "markdown",
   "metadata": {
    "collapsed": true
   },
   "source": [
    "## It turns out that there is two kind of object, mutable and immutable."
   ]
  },
  {
   "cell_type": "code",
   "execution_count": null,
   "metadata": {
    "collapsed": true
   },
   "outputs": [],
   "source": []
  }
 ],
 "metadata": {
  "kernelspec": {
   "display_name": "Python [default]",
   "language": "python",
   "name": "python2"
  },
  "language_info": {
   "codemirror_mode": {
    "name": "ipython",
    "version": 2
   },
   "file_extension": ".py",
   "mimetype": "text/x-python",
   "name": "python",
   "nbconvert_exporter": "python",
   "pygments_lexer": "ipython2",
   "version": "2.7.13"
  }
 },
 "nbformat": 4,
 "nbformat_minor": 0
}
