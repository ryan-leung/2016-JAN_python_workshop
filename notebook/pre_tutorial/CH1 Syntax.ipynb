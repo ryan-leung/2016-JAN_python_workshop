{
 "cells": [
  {
   "cell_type": "markdown",
   "metadata": {},
   "source": [
    "# CH 1 Syntax\n",
    "\n",
    "In this tutorial notebook, you will learn how to do programming in python and jupyter. Open a new notebook in ipython or https://try.jupyter.org/, try to \"copy\" and \"paste\" the following codes."
   ]
  },
  {
   "cell_type": "markdown",
   "metadata": {},
   "source": [
    "## Jupyter\n",
    "## - Basic operations:\n",
    "\n",
    "1. Click on the cell to select it.\n",
    "2. Press `SHIFT+ENTER` on your keyboard or press the play button (<button class='fa fa-play icon-play btn btn-xs btn-default'></button>) in the toolbar above.\n",
    "3. Open new cells using the plus button (<button class='fa fa-plus icon-plus btn btn-xs btn-default'></button>)"
   ]
  },
  {
   "cell_type": "markdown",
   "metadata": {},
   "source": [
    "## Simple statements : Hello World\n",
    "1. The first thing we do is to print a phrase \"Hello World!\" using python\n",
    "2. The \"print\" command with an \"object\" print your object to the terminal\n",
    "3. Noted that \"print\" command can only used in python 2. In python 3 you have to use \"print(your-object)\" function"
   ]
  },
  {
   "cell_type": "code",
   "execution_count": 1,
   "metadata": {},
   "outputs": [
    {
     "name": "stdout",
     "output_type": "stream",
     "text": [
      "Hello World!\n"
     ]
    }
   ],
   "source": [
    "print \"Hello World!\""
   ]
  },
  {
   "cell_type": "markdown",
   "metadata": {},
   "source": [
    "## Hello World! in other language\n",
    "\n",
    "## Fortran\n",
    "```\n",
    "    PROGRAM HELLO\n",
    "    WRITE (*,100)\n",
    "    STOP\n",
    "100 FORMAT (' Hello World! ' /)\n",
    "    END\n",
    "```\n",
    "\n",
    "## Lisp\n",
    "```\n",
    "(print \"Hello World\")\n",
    "```\n",
    "\n",
    "## C++\n",
    "```\n",
    "#include <iostream.h>\n",
    "main()\n",
    "{\n",
    "    cout << \"Hello World!\" << endl;\n",
    "    return 0;\n",
    "}\n",
    "```\n",
    "\n",
    "\n",
    "## Java\n",
    "```\n",
    "class HelloWorld {\n",
    "  static public void main( String args[] ) {\n",
    "    System.out.println( \"Hello World!\" );\n",
    "  }\n",
    "}\n",
    "```\n",
    "\n",
    "\n",
    "## Matlab\n",
    "```\n",
    "disp('Hello World');\n",
    "```\n",
    "## JavaScript\n",
    "```\n",
    "document.write('Hello World!')\n",
    "```"
   ]
  },
  {
   "cell_type": "code",
   "execution_count": 2,
   "metadata": {},
   "outputs": [
    {
     "name": "stdout",
     "output_type": "stream",
     "text": [
      "Tips 1: And Enter makes a new line in a cell\n",
      "Tips 2: Print also output line by line\n"
     ]
    }
   ],
   "source": [
    "print \"Tips 1: And Enter makes a new line in a cell\"\n",
    "print \"Tips 2: Print also output line by line\""
   ]
  },
  {
   "cell_type": "code",
   "execution_count": 3,
   "metadata": {},
   "outputs": [
    {
     "name": "stdout",
     "output_type": "stream",
     "text": [
      "Tips 3: Use \\ to escape an characters like \"\n",
      "Tips 4: Use \\n \n",
      " to make a newline character\n",
      "Tips 5: Use three ' to \n",
      "make \n",
      "multiple \n",
      "line\n",
      "\n"
     ]
    }
   ],
   "source": [
    "print \"Tips 3: Use \\ to escape an characters like \\\"\"\n",
    "print \"Tips 4: Use \\\\n \\n to make a newline character\"\n",
    "print '''Tips 5: Use three \\' to \n",
    "make \n",
    "multiple \n",
    "line\n",
    "''' "
   ]
  },
  {
   "cell_type": "markdown",
   "metadata": {},
   "source": [
    "## Import package and library\n",
    "Python is rich in library. Use expression like\n",
    "```\n",
    "Import xxxxxxx\n",
    "```\n",
    "or\n",
    "```\n",
    "from xxxxxxx import yyyyyy\n",
    "```\n",
    "to import library provided that you know the name of your library xxxxxx and objects yyyyyyy in the library xxxxxxx.\n",
    "\n",
    "Package is not loaded at the beginning, you need to import it before using it.\n"
   ]
  },
  {
   "cell_type": "markdown",
   "metadata": {},
   "source": [
    "## Example: Time module"
   ]
  },
  {
   "cell_type": "code",
   "execution_count": 4,
   "metadata": {},
   "outputs": [
    {
     "ename": "NameError",
     "evalue": "name 'time' is not defined",
     "output_type": "error",
     "traceback": [
      "\u001b[0;31m\u001b[0m",
      "\u001b[0;31mNameError\u001b[0mTraceback (most recent call last)",
      "\u001b[0;32m<ipython-input-4-ef309ab19b8b>\u001b[0m in \u001b[0;36m<module>\u001b[0;34m()\u001b[0m\n\u001b[0;32m----> 1\u001b[0;31m \u001b[0mtime\u001b[0m\u001b[0;34m.\u001b[0m\u001b[0msleep\u001b[0m\u001b[0;34m(\u001b[0m\u001b[0;36m0.5\u001b[0m\u001b[0;34m)\u001b[0m\u001b[0;34m;\u001b[0m\u001b[0;34m\u001b[0m\u001b[0m\n\u001b[0m\u001b[1;32m      2\u001b[0m \u001b[0;32mprint\u001b[0m \u001b[0;34m\"Too bad\"\u001b[0m\u001b[0;34m\u001b[0m\u001b[0m\n",
      "\u001b[0;31mNameError\u001b[0m: name 'time' is not defined"
     ]
    }
   ],
   "source": [
    "time.sleep(0.5);\n",
    "print \"Too bad\""
   ]
  },
  {
   "cell_type": "code",
   "execution_count": 5,
   "metadata": {},
   "outputs": [
    {
     "name": "stdout",
     "output_type": "stream",
     "text": [
      "Now its work\n"
     ]
    }
   ],
   "source": [
    "import time\n",
    "time.sleep(0.5);\n",
    "print \"Now its work\""
   ]
  },
  {
   "cell_type": "code",
   "execution_count": 6,
   "metadata": {},
   "outputs": [
    {
     "name": "stdout",
     "output_type": "stream",
     "text": [
      "We delete the time object to unload it from memory\n"
     ]
    },
    {
     "ename": "NameError",
     "evalue": "name 'time' is not defined",
     "output_type": "error",
     "traceback": [
      "\u001b[0;31m\u001b[0m",
      "\u001b[0;31mNameError\u001b[0mTraceback (most recent call last)",
      "\u001b[0;32m<ipython-input-6-148481f0da4d>\u001b[0m in \u001b[0;36m<module>\u001b[0;34m()\u001b[0m\n\u001b[1;32m      1\u001b[0m \u001b[0;32mprint\u001b[0m \u001b[0;34m\"We delete the time object to unload it from memory\"\u001b[0m\u001b[0;34m\u001b[0m\u001b[0m\n\u001b[1;32m      2\u001b[0m \u001b[0;32mdel\u001b[0m \u001b[0mtime\u001b[0m\u001b[0;34m\u001b[0m\u001b[0m\n\u001b[0;32m----> 3\u001b[0;31m \u001b[0mtime\u001b[0m\u001b[0;34m.\u001b[0m\u001b[0msleep\u001b[0m\u001b[0;34m(\u001b[0m\u001b[0;36m0.5\u001b[0m\u001b[0;34m)\u001b[0m\u001b[0;34m;\u001b[0m\u001b[0;34m\u001b[0m\u001b[0m\n\u001b[0m",
      "\u001b[0;31mNameError\u001b[0m: name 'time' is not defined"
     ]
    }
   ],
   "source": [
    "print \"We delete the time object to unload it from memory\"\n",
    "del time\n",
    "time.sleep(0.5);"
   ]
  },
  {
   "cell_type": "markdown",
   "metadata": {},
   "source": [
    "### Integer"
   ]
  },
  {
   "cell_type": "markdown",
   "metadata": {},
   "source": [
    "Declaring variable is simple, just put an equal sign to a variable name. Print it with the variable name:"
   ]
  },
  {
   "cell_type": "code",
   "execution_count": 16,
   "metadata": {},
   "outputs": [
    {
     "name": "stdout",
     "output_type": "stream",
     "text": [
      "10\n"
     ]
    }
   ],
   "source": [
    "a = 10\n",
    "print a"
   ]
  },
  {
   "cell_type": "markdown",
   "metadata": {},
   "source": [
    "You can print different variables at the same time with comma-separated, and the different arthimatic operations are showned"
   ]
  },
  {
   "cell_type": "code",
   "execution_count": 17,
   "metadata": {},
   "outputs": [
    {
     "name": "stdout",
     "output_type": "stream",
     "text": [
      "25 -5 150 0\n"
     ]
    }
   ],
   "source": [
    "a = 10\n",
    "b = 15\n",
    "print a + b , a - b , a * b , a / b"
   ]
  },
  {
   "cell_type": "markdown",
   "metadata": {},
   "source": [
    "### Float"
   ]
  },
  {
   "cell_type": "markdown",
   "metadata": {},
   "source": [
    "f1 miss the zero, f2 is a usual float number, f3 and f4 use scientific notation, all are float numbers"
   ]
  },
  {
   "cell_type": "code",
   "execution_count": 18,
   "metadata": {},
   "outputs": [
    {
     "name": "stdout",
     "output_type": "stream",
     "text": [
      "10.0 10.2 1000000000.0 1e-09 0.1\n"
     ]
    }
   ],
   "source": [
    "f1 = 10.\n",
    "f2 = 10.2\n",
    "f3 = 1e9\n",
    "f4 = 1e-9\n",
    "f5 = .1\n",
    "print f1,f2,f3,f4,f5"
   ]
  },
  {
   "cell_type": "markdown",
   "metadata": {},
   "source": [
    "And the different arthimatic operations of floats are showned"
   ]
  },
  {
   "cell_type": "code",
   "execution_count": 19,
   "metadata": {},
   "outputs": [
    {
     "name": "stdout",
     "output_type": "stream",
     "text": [
      "1000000000.0 1000000000.0 1.0 1e-18\n"
     ]
    }
   ],
   "source": [
    "f1 = 1e9\n",
    "f2 = 1e-9\n",
    "print f1 + f2 , f1 - f2 , f1 * f2 , f2 / f1"
   ]
  },
  {
   "cell_type": "markdown",
   "metadata": {},
   "source": [
    "### String"
   ]
  },
  {
   "cell_type": "markdown",
   "metadata": {},
   "source": [
    "s1 use double quote, s2 use single quote, s3 concatenate s1 and s2"
   ]
  },
  {
   "cell_type": "code",
   "execution_count": 20,
   "metadata": {},
   "outputs": [
    {
     "name": "stdout",
     "output_type": "stream",
     "text": [
      "HK U HKU\n"
     ]
    }
   ],
   "source": [
    "s1 = \"HK\"\n",
    "s2 = 'U'\n",
    "s3 = s1 + s2\n",
    "print s1,s2,s3"
   ]
  },
  {
   "cell_type": "markdown",
   "metadata": {},
   "source": [
    "The dot replace function replace a word \"Hong Kong\" in s1 to \"Pok Fu Lam\""
   ]
  },
  {
   "cell_type": "code",
   "execution_count": 21,
   "metadata": {},
   "outputs": [
    {
     "name": "stdout",
     "output_type": "stream",
     "text": [
      "The University of Hong Kong\n",
      "The University of Pok Fu Lam\n"
     ]
    }
   ],
   "source": [
    "s1 = \"The University of Hong Kong\"\n",
    "print s1\n",
    "print s1.replace(\"Hong Kong\",\"Pok Fu Lam\")"
   ]
  },
  {
   "cell_type": "markdown",
   "metadata": {},
   "source": [
    "Each character can be obtained by giving an index of the string, noted that it starts from zero"
   ]
  },
  {
   "cell_type": "code",
   "execution_count": 22,
   "metadata": {},
   "outputs": [
    {
     "name": "stdout",
     "output_type": "stream",
     "text": [
      "T\n",
      "U\n",
      "H\n",
      "K\n"
     ]
    }
   ],
   "source": [
    "s1 = \"The University of Hong Kong\"\n",
    "print s1[0]\n",
    "print s1[4]\n",
    "print s1[18]\n",
    "print s1[23]"
   ]
  },
  {
   "cell_type": "markdown",
   "metadata": {},
   "source": [
    "Split is a powerful function that split a string with a character into a list (array)"
   ]
  },
  {
   "cell_type": "code",
   "execution_count": 23,
   "metadata": {},
   "outputs": [
    {
     "name": "stdout",
     "output_type": "stream",
     "text": [
      "['The', 'University', 'of', 'Hong', 'Kong']\n",
      "['11', '12', '13', '14', '15']\n",
      "['11.12', '13.14', '15']\n"
     ]
    }
   ],
   "source": [
    "s1 = \"The University of Hong Kong\"\n",
    "print s1.split()\n",
    "s2 = \"11 12 13 14 15\"\n",
    "print s2.split()\n",
    "s3 = \"11.12,13.14,15\"\n",
    "print s3.split(',')"
   ]
  },
  {
   "cell_type": "markdown",
   "metadata": {},
   "source": [
    "## More about string in a statement"
   ]
  },
  {
   "cell_type": "markdown",
   "metadata": {},
   "source": [
    "Use %s to act as a placeholder in output\n",
    "```\n",
    "print \"........%s.......\" % your-variables\n",
    "```"
   ]
  },
  {
   "cell_type": "code",
   "execution_count": 7,
   "metadata": {},
   "outputs": [
    {
     "name": "stdout",
     "output_type": "stream",
     "text": [
      "A F C\n"
     ]
    }
   ],
   "source": [
    "print \"A %s C\" % \"F\""
   ]
  },
  {
   "cell_type": "markdown",
   "metadata": {},
   "source": [
    "Use a bracket at the end if you use two or more placeholders"
   ]
  },
  {
   "cell_type": "code",
   "execution_count": 8,
   "metadata": {},
   "outputs": [
    {
     "name": "stdout",
     "output_type": "stream",
     "text": [
      "A B C D\n"
     ]
    }
   ],
   "source": [
    "print \"A %s C %s\" % (\"B\",\"D\") "
   ]
  },
  {
   "cell_type": "markdown",
   "metadata": {},
   "source": [
    "If your input is not a string, in this case it is an integer, it will convert to string automatically"
   ]
  },
  {
   "cell_type": "code",
   "execution_count": 9,
   "metadata": {},
   "outputs": [
    {
     "name": "stdout",
     "output_type": "stream",
     "text": [
      "A 1 C 2\n"
     ]
    }
   ],
   "source": [
    "print \"A %s C %s\" % (1,2) "
   ]
  },
  {
   "cell_type": "markdown",
   "metadata": {},
   "source": [
    "Same for float numbers, but the formats depends"
   ]
  },
  {
   "cell_type": "code",
   "execution_count": 10,
   "metadata": {},
   "outputs": [
    {
     "name": "stdout",
     "output_type": "stream",
     "text": [
      "A 1e-08 C 2000000.0\n"
     ]
    }
   ],
   "source": [
    "print \"A %s C %s\" % (1e-8,2e6) "
   ]
  },
  {
   "cell_type": "markdown",
   "metadata": {},
   "source": [
    "If you need precision in the printed float, use"
   ]
  },
  {
   "cell_type": "code",
   "execution_count": 11,
   "metadata": {},
   "outputs": [
    {
     "name": "stdout",
     "output_type": "stream",
     "text": [
      "1 Digit: 3.1\n",
      "2 Digit: 3.14\n",
      "3 Digit: 3.142\n",
      "4 Digit: 3.1416\n"
     ]
    }
   ],
   "source": [
    "print \"1 Digit: %.1f\" % 3.1415929\n",
    "print \"2 Digit: %.2f\" % 3.1415929\n",
    "print \"3 Digit: %.3f\" % 3.1415929\n",
    "print \"4 Digit: %.4f\" % 3.1415929"
   ]
  },
  {
   "cell_type": "markdown",
   "metadata": {},
   "source": [
    "If you need precision in the scientific notation, use"
   ]
  },
  {
   "cell_type": "code",
   "execution_count": 12,
   "metadata": {},
   "outputs": [
    {
     "name": "stdout",
     "output_type": "stream",
     "text": [
      "1 Digit: 3.1e+00\n",
      "2 Digit: 3.00e+08\n",
      "3 Digit: 2.998e+08\n",
      "4 Digit: 6.6261e-34\n"
     ]
    }
   ],
   "source": [
    "print \"1 Digit: %.1e\" % 3.1415929\n",
    "print \"2 Digit: %.2e\" % 299792458\n",
    "print \"3 Digit: %.3e\" % 299792458\n",
    "print \"4 Digit: %.4e\" % 6.62607004e-34"
   ]
  },
  {
   "cell_type": "markdown",
   "metadata": {},
   "source": [
    "### Boolean"
   ]
  },
  {
   "cell_type": "markdown",
   "metadata": {},
   "source": [
    "Boolean can be defined by True or False, and support basic logical operation."
   ]
  },
  {
   "cell_type": "code",
   "execution_count": 24,
   "metadata": {},
   "outputs": [
    {
     "name": "stdout",
     "output_type": "stream",
     "text": [
      "True False True\n"
     ]
    }
   ],
   "source": [
    "b1 = True\n",
    "b2 = False\n",
    "b3 = (b1 and b2) or (b1 or b2)\n",
    "print b1,b2,b3"
   ]
  },
  {
   "cell_type": "markdown",
   "metadata": {},
   "source": [
    "## Example: Input from future\n",
    "If you need the print() function in python 3, input it from future "
   ]
  },
  {
   "cell_type": "code",
   "execution_count": 25,
   "metadata": {},
   "outputs": [
    {
     "name": "stdout",
     "output_type": "stream",
     "text": [
      "Hello World!\n"
     ]
    }
   ],
   "source": [
    "print('Hello World!')"
   ]
  },
  {
   "cell_type": "code",
   "execution_count": 26,
   "metadata": {},
   "outputs": [
    {
     "name": "stdout",
     "output_type": "stream",
     "text": [
      "Hello World!\n"
     ]
    }
   ],
   "source": [
    "from __future__ import print_function\n",
    "print('Hello World!')"
   ]
  }
 ],
 "metadata": {
  "anaconda-cloud": {},
  "kernelspec": {
   "display_name": "Python 2",
   "language": "python",
   "name": "python2"
  },
  "language_info": {
   "codemirror_mode": {
    "name": "ipython",
    "version": 2
   },
   "file_extension": ".py",
   "mimetype": "text/x-python",
   "name": "python",
   "nbconvert_exporter": "python",
   "pygments_lexer": "ipython2",
   "version": "2.7.14"
  }
 },
 "nbformat": 4,
 "nbformat_minor": 1
}
