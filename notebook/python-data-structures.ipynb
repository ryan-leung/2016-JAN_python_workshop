{
 "cells": [
  {
   "cell_type": "markdown",
   "metadata": {},
   "source": [
    "# Python Data Structures\n",
    "\n",
    "## Data structure in computing\n",
    "\n",
    "Data structures are how computer programs store information. Theses information can be processed, analyzed \n",
    "and visualized easily from the programme. Scientific data can be large and complex and may require data structures appropriate for scientific programming. In Astronomy, the `fits` file is one of the most widely used data-storing medium, it can store a lot of information including the coordinates, the precious time, a very large cataelog table, multi-dimension data cube, etc.. These data, when it is opened by the programme, shall be recognised and easily managed by the programme.\n",
    "\n",
    "In Python, there are pre-defined advanced data structure depending on the kind of data you wish to store. \n",
    "You will have to choose data structures that best meet your requirements for the problem you are trying to solve. In this section, I will go through specifically examine three Python data structures: datetime, lists, tuples, sets, and dictionaries."
   ]
  },
  {
   "cell_type": "markdown",
   "metadata": {},
   "source": [
    "## lists\n",
    "\n",
    "A Python list is a sequence of values (elements) that are usually the same kind of item. They are in order and mutable. Mutable means they can be changed after they are created, of course, this implies you can exchange the order of the elements inside it. This is a Python list of prime numbers smaller than 100:\n"
   ]
  },
  {
   "cell_type": "code",
   "execution_count": 1,
   "metadata": {
    "collapsed": true
   },
   "outputs": [],
   "source": [
    "x = [2, 3, 5, 7, 11, 13, 17, 19, 23, 29, 31, 37, 41, 43, 47, 53, 59, 61, 67, 71, 73, 79, 83, 89, 97]"
   ]
  },
  {
   "cell_type": "markdown",
   "metadata": {},
   "source": [
    "### Definition\n",
    "It is defined with parentheses : `[xx,xx,xx]`. \n",
    "\n",
    "### Get Element\n",
    "The elements are called using a square bracket with an index starting from zero : `x[y], 0..N`. \n",
    "\n",
    "### Slice (sub-array)\n",
    "You can slice the array using colon, in this case `a[start:end]` means items start up to end-1."
   ]
  },
  {
   "cell_type": "code",
   "execution_count": 2,
   "metadata": {},
   "outputs": [
    {
     "name": "stdout",
     "output_type": "stream",
     "text": [
      "[2, 3, 5, 7, 11, 13, 17, 19, 23, 29, 31, 37, 41, 43, 47, 53, 59, 61, 67, 71, 73, 79, 83, 89, 97]\n",
      "2\n"
     ]
    }
   ],
   "source": [
    "print x\n",
    "print x[0]"
   ]
  },
  {
   "cell_type": "markdown",
   "metadata": {},
   "source": [
    "A single colon `a[:]` means a copy of the whole array.\n",
    "\n",
    "`a[start:]` return tuple of items start through the rest of the array.\n",
    "\n",
    "`a[:end] `return tuple of items from the beginning through end-1.\n"
   ]
  },
  {
   "cell_type": "code",
   "execution_count": 3,
   "metadata": {},
   "outputs": [
    {
     "name": "stdout",
     "output_type": "stream",
     "text": [
      "[3]\n",
      "[2, 3, 5, 7, 11, 13, 17, 19, 23, 29, 31, 37, 41, 43, 47, 53, 59, 61, 67, 71, 73, 79, 83, 89, 97]\n",
      "[2, 3]\n",
      "[3, 5, 7, 11, 13, 17, 19, 23, 29, 31, 37, 41, 43, 47, 53, 59, 61, 67, 71, 73, 79, 83, 89, 97]\n"
     ]
    }
   ],
   "source": [
    "print x[1:2]\n",
    "print x[:]\n",
    "print x[:2]\n",
    "print x[1:]"
   ]
  },
  {
   "cell_type": "markdown",
   "metadata": {},
   "source": [
    "more interestingly, they have negative index\n",
    "\n",
    "`a[-1]` means last item in the array\n",
    "\n",
    "`a[-2:]` means last two items in the array\n",
    "\n",
    "`a[:-2]` means everything except the last two items\n"
   ]
  },
  {
   "cell_type": "code",
   "execution_count": 4,
   "metadata": {},
   "outputs": [
    {
     "name": "stdout",
     "output_type": "stream",
     "text": [
      "97\n",
      "89\n",
      "[89, 97]\n",
      "[2, 3, 5, 7, 11, 13, 17, 19, 23, 29, 31, 37, 41, 43, 47, 53, 59, 61, 67, 71, 73, 79, 83]\n"
     ]
    }
   ],
   "source": [
    "print x[-1]\n",
    "print x[-2]\n",
    "print x[-2:]\n",
    "print x[:-2]"
   ]
  },
  {
   "cell_type": "markdown",
   "metadata": {},
   "source": [
    "You may reversed a list with `xxx[::-1]`."
   ]
  },
  {
   "cell_type": "code",
   "execution_count": 5,
   "metadata": {},
   "outputs": [
    {
     "name": "stdout",
     "output_type": "stream",
     "text": [
      "[97, 89, 83, 79, 73, 71, 67, 61, 59, 53, 47, 43, 41, 37, 31, 29, 23, 19, 17, 13, 11, 7, 5, 3, 2]\n"
     ]
    }
   ],
   "source": [
    "print x[::-1]"
   ]
  },
  {
   "cell_type": "markdown",
   "metadata": {},
   "source": [
    "### Concatenate\n",
    "You may add up two `list` or we say concatenate, and multiply to duplicate the items."
   ]
  },
  {
   "cell_type": "code",
   "execution_count": 6,
   "metadata": {},
   "outputs": [
    {
     "name": "stdout",
     "output_type": "stream",
     "text": [
      "[2, 3, 5, 7, 11, 13, 17, 19, 23, 29, 31, 37, 41, 43, 47, 53, 59, 61, 67, 71, 73, 79, 83, 89, 97, 0, 1]\n",
      "[0, 1, 2, 3, 5, 7, 11, 13, 17, 19, 23, 29, 31, 37, 41, 43, 47, 53, 59, 61, 67, 71, 73, 79, 83, 89, 97]\n",
      "[0, 1, 0, 1, 0, 1, 0, 1, 0, 1]\n"
     ]
    }
   ],
   "source": [
    "print x + [0,1]\n",
    "print [0,1] + x\n",
    "print [0,1] * 5"
   ]
  },
  {
   "cell_type": "markdown",
   "metadata": {},
   "source": [
    "### Sorting\n",
    "You may sort a list with `sorted(x)`. Noted that it returns a new list."
   ]
  },
  {
   "cell_type": "code",
   "execution_count": 7,
   "metadata": {},
   "outputs": [
    {
     "name": "stdout",
     "output_type": "stream",
     "text": [
      "[97, 89, 83, 79, 73, 71, 67, 61, 59, 53, 47, 43, 41, 37, 31, 29, 23, 19, 17, 13, 11, 7, 5, 3, 2]\n",
      "[97, 89, 83, 79, 73, 71, 67, 61, 59, 53, 47, 43, 41, 37, 31, 29, 23, 19, 17, 13, 11, 7, 5, 3, 2]\n",
      "[2, 3, 5, 7, 11, 13, 17, 19, 23, 29, 31, 37, 41, 43, 47, 53, 59, 61, 67, 71, 73, 79, 83, 89, 97]\n"
     ]
    }
   ],
   "source": [
    "y = [97, 89, 83, 79, 73, 71, 67, 61, 59, 53, 47, 43, 41, 37, 31, 29, 23, 19, 17, 13, 11, 7, 5, 3, 2]\n",
    "print y\n",
    "z = sorted(y)\n",
    "print y\n",
    "print z"
   ]
  },
  {
   "cell_type": "markdown",
   "metadata": {},
   "source": [
    "### Add element (append); Remove element (pop); Insert element (insert)\n",
    "These functions are modified in-place, i.e. the original list **will be changed**"
   ]
  },
  {
   "cell_type": "code",
   "execution_count": 8,
   "metadata": {},
   "outputs": [
    {
     "name": "stdout",
     "output_type": "stream",
     "text": [
      "[2, 3, 5, 7, 11, 13, 17, 19, 23, 29, 31, 37, 41, 43, 47, 53, 59, 61, 67, 71, 73, 79, 83, 89, 97]\n",
      "[2, 3, 5, 7, 11, 13, 17, 19, 23, 29, 31, 37, 41, 43, 47, 53, 59, 61, 67, 71, 73, 79, 83, 89, 97, 'A']\n"
     ]
    }
   ],
   "source": [
    "print x\n",
    "x.append('A')\n",
    "print x"
   ]
  },
  {
   "cell_type": "code",
   "execution_count": 9,
   "metadata": {},
   "outputs": [
    {
     "name": "stdout",
     "output_type": "stream",
     "text": [
      "[2, 3, 5, 7, 11, 13, 17, 19, 23, 29, 31, 37, 41, 43, 47, 53, 59, 61, 67, 71, 73, 79, 83, 89, 97, 'A']\n",
      "[2, 3, 5, 7, 11, 'B', 13, 17, 19, 23, 29, 31, 37, 41, 43, 47, 53, 59, 61, 67, 71, 73, 79, 83, 89, 97, 'A']\n"
     ]
    }
   ],
   "source": [
    "print x\n",
    "x.insert(5,'B') # insert 'B' between x[4] and x[5], results in x[5] = 'B'\n",
    "print x"
   ]
  },
  {
   "cell_type": "code",
   "execution_count": 10,
   "metadata": {},
   "outputs": [
    {
     "name": "stdout",
     "output_type": "stream",
     "text": [
      "[2, 3, 5, 7, 11, 'B', 13, 17, 19, 23, 29, 31, 37, 41, 43, 47, 53, 59, 61, 67, 71, 73, 79, 83, 89, 97, 'A']\n",
      "[2, 3, 5, 7, 11, 13, 17, 19, 23, 29, 31, 37, 41, 43, 47, 53, 59, 61, 67, 71, 73, 79, 83, 89, 97, 'A']\n",
      "[2, 3, 5, 7, 11, 13, 17, 19, 23, 29, 31, 37, 41, 43, 47, 53, 59, 61, 67, 71, 73, 79, 83, 89, 97]\n"
     ]
    }
   ],
   "source": [
    "print x; \n",
    "x.pop(5); # Removed the x[5] item and return it\n",
    "print x; \n",
    "x.pop(-1); # Removed the last item and return it\n",
    "print x"
   ]
  },
  {
   "cell_type": "markdown",
   "metadata": {},
   "source": [
    "### More on lists\n",
    "https://docs.python.org/2/tutorial/datastructures.html"
   ]
  },
  {
   "cell_type": "markdown",
   "metadata": {},
   "source": [
    "## Tuple\n",
    "\n",
    "A Python tuple is similar to a list. The elements are in order but fixed once they are created. In other words, they are immutable. The tuple can store differently type of elements. \n",
    "\n",
    "### Definition\n",
    "It is defined with parentheses : `(xx,xx,xx)`. \n",
    "\n",
    "### Get Element\n",
    "The elements are called using a square bracket with an index starting from zero : `x[y], 0..N`. \n",
    "\n",
    "### Slice (sub-array)\n",
    "You can slice the array using colon, in this case `a[start:end]` means items start up to end-1."
   ]
  },
  {
   "cell_type": "code",
   "execution_count": 11,
   "metadata": {},
   "outputs": [
    {
     "name": "stdout",
     "output_type": "stream",
     "text": [
      "(22.28552, 114.15769)\n"
     ]
    }
   ],
   "source": [
    "corr = (22.28552, 114.15769)\n",
    "print corr"
   ]
  },
  {
   "cell_type": "code",
   "execution_count": 12,
   "metadata": {},
   "outputs": [
    {
     "ename": "TypeError",
     "evalue": "'tuple' object does not support item assignment",
     "output_type": "error",
     "traceback": [
      "\u001b[0;31m\u001b[0m",
      "\u001b[0;31mTypeError\u001b[0mTraceback (most recent call last)",
      "\u001b[0;32m<ipython-input-12-7dbbdf2a13d7>\u001b[0m in \u001b[0;36m<module>\u001b[0;34m()\u001b[0m\n\u001b[0;32m----> 1\u001b[0;31m \u001b[0mcorr\u001b[0m\u001b[0;34m[\u001b[0m\u001b[0;36m0\u001b[0m\u001b[0;34m]\u001b[0m \u001b[0;34m=\u001b[0m \u001b[0;36m10\u001b[0m\u001b[0;34m\u001b[0m\u001b[0m\n\u001b[0m",
      "\u001b[0;31mTypeError\u001b[0m: 'tuple' object does not support item assignment"
     ]
    }
   ],
   "source": [
    "corr[0] = 10"
   ]
  },
  {
   "cell_type": "markdown",
   "metadata": {},
   "source": [
    "### Useful Functions for Lists and Tuples"
   ]
  },
  {
   "cell_type": "code",
   "execution_count": 13,
   "metadata": {},
   "outputs": [
    {
     "name": "stdout",
     "output_type": "stream",
     "text": [
      "25\n",
      "2 97\n"
     ]
    }
   ],
   "source": [
    "# Length of the list/tuple\n",
    "print len(x)\n",
    "# Retrun the minimum and maximum in the list/tuple\n",
    "print min(x), max(x)"
   ]
  },
  {
   "cell_type": "code",
   "execution_count": 14,
   "metadata": {},
   "outputs": [
    {
     "name": "stdout",
     "output_type": "stream",
     "text": [
      "22.28552 114.15769\n"
     ]
    }
   ],
   "source": [
    "# Multiple assignment\n",
    "lat,lon = corr\n",
    "print lat, lon"
   ]
  },
  {
   "cell_type": "code",
   "execution_count": 15,
   "metadata": {},
   "outputs": [
    {
     "name": "stdout",
     "output_type": "stream",
     "text": [
      "lat 22.28552, lon 114.15769\n"
     ]
    }
   ],
   "source": [
    "# String formating with Tuple unpacking with `*`\n",
    "print 'lat {0}, lon {1}'.format(*corr)"
   ]
  },
  {
   "cell_type": "code",
   "execution_count": 16,
   "metadata": {},
   "outputs": [
    {
     "name": "stdout",
     "output_type": "stream",
     "text": [
      "[22.28552, 114.15769]\n",
      "(2, 3, 5, 7, 11, 13, 17, 19, 23, 29, 31, 37, 41, 43, 47, 53, 59, 61, 67, 71, 73, 79, 83, 89, 97)\n"
     ]
    }
   ],
   "source": [
    "# tuple to list, list to tuple\n",
    "print list(corr)\n",
    "print tuple(x)"
   ]
  },
  {
   "cell_type": "markdown",
   "metadata": {},
   "source": [
    "### More on slicing in list and tuple"
   ]
  },
  {
   "cell_type": "code",
   "execution_count": 17,
   "metadata": {},
   "outputs": [
    {
     "name": "stdout",
     "output_type": "stream",
     "text": [
      "Original: [2, 3, 5, 7, 11, 13, 17, 19, 23, 29, 31, 37, 41, 43, 47, 53, 59, 61, 67, 71, 73, 79, 83, 89, 97]\n",
      "[5, 7, 11]\n",
      "[5, 7, 11, 13, 17, 19, 23, 29, 31, 37, 41, 43, 47, 53, 59, 61, 67, 71, 73, 79, 83, 89, 97]\n",
      "[2, 3, 5, 7, 11]\n",
      "[2, 3, 5, 7, 11, 13, 17, 19, 23, 29, 31, 37, 41, 43, 47, 53, 59, 61, 67, 71, 73, 79, 83, 89, 97]\n",
      "97\n",
      "[89, 97]\n",
      "[2, 3, 5, 7, 11, 13, 17, 19, 23, 29, 31, 37, 41, 43, 47, 53, 59, 61, 67, 71, 73, 79, 83]\n",
      "[5, 11]\n"
     ]
    }
   ],
   "source": [
    "### More on slicing in list and tuple\n",
    "start=2\n",
    "end=5\n",
    "step=2\n",
    "\n",
    "print \"Original:\",x\n",
    "print x[start:end] # items start through end-1\n",
    "print x[start:]    # items start through the rest of the array\n",
    "print x[:end]      # items from the beginning through end-1\n",
    "print x[:]         # a copy of the whole array\n",
    "print x[-1]    # last item in the array\n",
    "print x[-2:]   # last two items in the array\n",
    "print x[:-2]   # everything except the last two items\n",
    "\n",
    "print x[start:end:step] # start through not past end, by step"
   ]
  },
  {
   "cell_type": "markdown",
   "metadata": {},
   "source": [
    "## Set"
   ]
  },
  {
   "cell_type": "markdown",
   "metadata": {},
   "source": [
    "## Dictionary"
   ]
  },
  {
   "cell_type": "markdown",
   "metadata": {},
   "source": [
    "Dictionary is more flexible than list and its index is a string, it is defined with curly bracket: \n",
    "\n",
    "`data = {'k1' : y1 , 'k2' : y2 , 'k3' : y3 }`\n",
    "\n",
    "`k1`,`k2`,`k3` are called keys while y1,y2 and y3 are elements.\n",
    "\n",
    "### Creating an empty dictionary\n",
    "It is defined with a pair of curly bracket or the `dict()` fuction: `data = {}` or `data = dict()`\n",
    "\n",
    "### Creating a dictionary with initial values\n",
    "1. It could be defined with a curly bracket with index:element pairs : `data = {'k1' : y1 , 'k2' : y2 , 'k3' : y3 }`. \n",
    "2. It could also be defined with the `dict()` function : `data = dict(k1=y1, k2=y2, k3=y3)`.\n",
    "3. It could also be defined with tuples : `data = {k: v for k, v in (('k1', y1),('k2',y2),('k3',y3))}`.\n",
    "\n",
    "### Get Element\n",
    "The elements are called using a square bracket with an index string : `data[key]`. \n",
    "\n",
    "### Inserting/Updating a single value / multiple values\n",
    "1. `data['k1']=1`  # Updates if 'k1' exists, else adds the element with index 'k1'\n",
    "\n",
    "2. `data.update({'k1':1})`\n",
    "\n",
    "3. `data.update(dict(k1=1))`\n",
    "\n",
    "4. `data.update(k1=1)`\n",
    "\n",
    "5. Multiple values : `data.update({'k3':3,'k4':4})`  # Updates 'k3' and adds 'k4'\n",
    "\n",
    "### Merged dictionary without modifying originals\n",
    "\n",
    "1. `data3 = {}`\n",
    "2. `data3.update(data)`  # Modifies data3, not data\n",
    "3. `data3.update(data2)`  # Modifies data3, not data2\n",
    "\n",
    "### Delete an item\n",
    "1. `del data[key]`  # Removes specific element in a dictionary\n",
    "2. `data.pop(key)`  # Removes the key & returns the value\n",
    "3. `data.clear()`  # Clears entire dictionary\n",
    "\n",
    "### Check if a key is existed\n",
    "\n",
    "1. `key in data` # Return a boolean\n",
    "\n",
    "### Iterate through pairs\n",
    "\n",
    "1. `for key in data:` # Iterates just through the keys, ignoring the values\n",
    "2. `for key, value in d.items():` # Iterates through the pairs"
   ]
  },
  {
   "cell_type": "code",
   "execution_count": 18,
   "metadata": {},
   "outputs": [
    {
     "name": "stdout",
     "output_type": "stream",
     "text": [
      "{}\n"
     ]
    }
   ],
   "source": [
    "# Creating an empty dictionary\n",
    "location = {}\n",
    "print location"
   ]
  },
  {
   "cell_type": "code",
   "execution_count": 19,
   "metadata": {},
   "outputs": [
    {
     "name": "stdout",
     "output_type": "stream",
     "text": [
      "{'Tokyo': (34.2255804, 139.294774527387), 'Paris': (48.8566101, 2.3514992), 'Moscow': (46.7323875, -117.0001651), 'Berlin': (52.5170365, 13.3888599), 'London': (51.5073219, -0.1276474), 'Sydney': (-33.8548157, 151.2164539)}\n"
     ]
    }
   ],
   "source": [
    "# Defined with a curly bracket\n",
    "location = {\n",
    "            'Berlin': (52.5170365, 13.3888599),\n",
    "            'London': (51.5073219, -0.1276474),\n",
    "            'Sydney': (-33.8548157, 151.2164539),\n",
    "            'Tokyo': (34.2255804, 139.294774527387),\n",
    "            'Paris': (48.8566101, 2.3514992),\n",
    "            'Moscow': (46.7323875, -117.0001651)\n",
    "           }\n",
    "print location"
   ]
  },
  {
   "cell_type": "code",
   "execution_count": 20,
   "metadata": {},
   "outputs": [
    {
     "name": "stdout",
     "output_type": "stream",
     "text": [
      "{'Tokyo': (34.2255804, 139.294774527387), 'Paris': (48.8566101, 2.3514992), 'Moscow': (46.7323875, -117.0001651), 'Berlin': (52.5170365, 13.3888599), 'London': (51.5073219, -0.1276474), 'Sydney': (-33.8548157, 151.2164539), 'Hong Kong': (22.2793278, 114.1628131)}\n"
     ]
    }
   ],
   "source": [
    "# Update\n",
    "location.update({'Hong Kong': (22.2793278, 114.1628131)})\n",
    "print location"
   ]
  },
  {
   "cell_type": "code",
   "execution_count": 21,
   "metadata": {},
   "outputs": [
    {
     "name": "stdout",
     "output_type": "stream",
     "text": [
      "(34.2255804, 139.294774527387)\n"
     ]
    }
   ],
   "source": [
    "# Call element\n",
    "print location['Tokyo']"
   ]
  },
  {
   "cell_type": "code",
   "execution_count": 22,
   "metadata": {},
   "outputs": [
    {
     "name": "stdout",
     "output_type": "stream",
     "text": [
      "{'Tokyo': (34.2255804, 139.294774527387), 'Paris': (48.8566101, 2.3514992), 'Moscow': (46.7323875, -117.0001651), 'Berlin': (52.5170365, 13.3888599), 'London': (51.5073219, -0.1276474), 'Sydney': (-33.8548157, 151.2164539)}\n"
     ]
    }
   ],
   "source": [
    "# Delete element\n",
    "del location['Hong Kong']\n",
    "print location"
   ]
  },
  {
   "cell_type": "code",
   "execution_count": 23,
   "metadata": {},
   "outputs": [
    {
     "name": "stdout",
     "output_type": "stream",
     "text": [
      "(34.2255804, 139.294774527387)\n",
      "(48.8566101, 2.3514992)\n",
      "(46.7323875, -117.0001651)\n",
      "(52.5170365, 13.3888599)\n",
      "(51.5073219, -0.1276474)\n",
      "(-33.8548157, 151.2164539)\n"
     ]
    }
   ],
   "source": [
    "for key, value in location.items():\n",
    "    print value"
   ]
  },
  {
   "cell_type": "markdown",
   "metadata": {},
   "source": [
    "# Numpy\n",
    "<img src=\"images/numpylogo.svg\" alt=\"matplotlib\" style=\"width: 400px;\"/>\n",
    "\n",
    "Numpy is a numerical package used extensively in python coding. You can call the install the numpy package by \n",
    "```\n",
    "pip install numpy\n",
    "```\n",
    "When you import a module, you can choose to bound an alias to the package. In python communities, we usually import the ``nupy`` module like this:"
   ]
  },
  {
   "cell_type": "code",
   "execution_count": 24,
   "metadata": {
    "collapsed": true
   },
   "outputs": [],
   "source": [
    "import numpy as np"
   ]
  },
  {
   "cell_type": "markdown",
   "metadata": {},
   "source": [
    "When you import a module via\n",
    "\n",
    "```python\n",
    "import numpy\n",
    "```\n",
    "\n",
    "the numpy package is bound to the local variable numpy. The new syntax\n",
    "\n",
    "```python\n",
    "import numpy as np\n",
    "```\n",
    "\n",
    "allows you to bind the import to the local variable name of your choice (usually to avoid name collisions, shorten verbose module names, or standardize access to modules with compatible APIs). The whole command is equivalent to:\n",
    "\n",
    "```python\n",
    "import numpy\n",
    "np = numpy\n",
    "del numpy\n",
    "```"
   ]
  },
  {
   "cell_type": "markdown",
   "metadata": {},
   "source": [
    "## ``numpy`` array\n",
    "\n",
    "A ``numpy`` array is a grid of values, all of the same type. The number of dimensions give the rank of the array.\n",
    "To initilze a 1D array, we will do:\n"
   ]
  },
  {
   "cell_type": "code",
   "execution_count": 25,
   "metadata": {
    "collapsed": true
   },
   "outputs": [],
   "source": [
    "a = np.array([2, 3, 5, 7, 11, 13, 17, 19, 23, 29, 31, 37, 41, 43, 47, 53, 59, 61, 67, 71, 73, 79, 83, 89, 97])"
   ]
  },
  {
   "cell_type": "markdown",
   "metadata": {},
   "source": [
    "The shape of an array is a tuple of integers giving the size of the array along each dimension."
   ]
  },
  {
   "cell_type": "code",
   "execution_count": 26,
   "metadata": {},
   "outputs": [
    {
     "name": "stdout",
     "output_type": "stream",
     "text": [
      "(25,)\n",
      "[ 2  3  5  7 11 13 17 19 23 29 31 37 41 43 47 53 59 61 67 71 73 79 83 89 97]\n"
     ]
    }
   ],
   "source": [
    "print a.shape\n",
    "print a"
   ]
  },
  {
   "cell_type": "markdown",
   "metadata": {},
   "source": [
    "To initilze a 1D array, we can do:"
   ]
  },
  {
   "cell_type": "code",
   "execution_count": 27,
   "metadata": {
    "collapsed": true
   },
   "outputs": [],
   "source": [
    "b = np.array([[1, 2, 3], [4, 5, 6], [7, 8, 9]])"
   ]
  },
  {
   "cell_type": "code",
   "execution_count": 28,
   "metadata": {},
   "outputs": [
    {
     "name": "stdout",
     "output_type": "stream",
     "text": [
      "(3, 3)\n",
      "[[1 2 3]\n",
      " [4 5 6]\n",
      " [7 8 9]]\n"
     ]
    }
   ],
   "source": [
    "print b.shape\n",
    "print b"
   ]
  },
  {
   "cell_type": "markdown",
   "metadata": {},
   "source": [
    "To call or change the element in the array, we can apply similar operation as a list:"
   ]
  },
  {
   "cell_type": "code",
   "execution_count": 29,
   "metadata": {},
   "outputs": [
    {
     "name": "stdout",
     "output_type": "stream",
     "text": [
      "2 7 13\n"
     ]
    }
   ],
   "source": [
    "print a[0], a[3], a[5]"
   ]
  },
  {
   "cell_type": "code",
   "execution_count": 30,
   "metadata": {},
   "outputs": [
    {
     "name": "stdout",
     "output_type": "stream",
     "text": [
      "1 5 9\n"
     ]
    }
   ],
   "source": [
    "print b[0,0],b[1,1],b[2,2]"
   ]
  },
  {
   "cell_type": "code",
   "execution_count": 31,
   "metadata": {},
   "outputs": [
    {
     "name": "stdout",
     "output_type": "stream",
     "text": [
      "5\n"
     ]
    }
   ],
   "source": [
    "a[0] = 5\n",
    "print a[0]\n",
    "a[0] = 2"
   ]
  },
  {
   "cell_type": "code",
   "execution_count": 32,
   "metadata": {},
   "outputs": [
    {
     "name": "stdout",
     "output_type": "stream",
     "text": [
      "[[1 2 3]\n",
      " [4 5 6]\n",
      " [7 8 9]]\n",
      "[[2 2 3]\n",
      " [4 5 6]\n",
      " [7 8 9]]\n"
     ]
    }
   ],
   "source": [
    "print b\n",
    "b[0,0] = 2\n",
    "print b"
   ]
  },
  {
   "cell_type": "markdown",
   "metadata": {},
   "source": [
    "Numpy also provides some alternative functions to initlize arrays:"
   ]
  },
  {
   "cell_type": "code",
   "execution_count": 33,
   "metadata": {},
   "outputs": [
    {
     "name": "stdout",
     "output_type": "stream",
     "text": [
      "[[ 0.  0.]\n",
      " [ 0.  0.]]\n"
     ]
    }
   ],
   "source": [
    "# Create an array of all zeros\n",
    "a = np.zeros((2,2))   \n",
    "print(a)"
   ]
  },
  {
   "cell_type": "code",
   "execution_count": 34,
   "metadata": {},
   "outputs": [
    {
     "name": "stdout",
     "output_type": "stream",
     "text": [
      "[[ 1.  1.  1.  1.  1.]\n",
      " [ 1.  1.  1.  1.  1.]\n",
      " [ 1.  1.  1.  1.  1.]\n",
      " [ 1.  1.  1.  1.  1.]\n",
      " [ 1.  1.  1.  1.  1.]]\n"
     ]
    }
   ],
   "source": [
    "# Create an array of all ones\n",
    "b = np.ones((5,5))   \n",
    "print(b)"
   ]
  },
  {
   "cell_type": "code",
   "execution_count": 35,
   "metadata": {},
   "outputs": [
    {
     "name": "stdout",
     "output_type": "stream",
     "text": [
      "[[7 7 7]\n",
      " [7 7 7]\n",
      " [7 7 7]]\n"
     ]
    }
   ],
   "source": [
    "# Create a constant array\n",
    "c = np.full((3,3), 7)  \n",
    "print(c)"
   ]
  },
  {
   "cell_type": "code",
   "execution_count": 36,
   "metadata": {},
   "outputs": [
    {
     "name": "stdout",
     "output_type": "stream",
     "text": [
      "[[ 1.  0.  0.]\n",
      " [ 0.  1.  0.]\n",
      " [ 0.  0.  1.]]\n"
     ]
    }
   ],
   "source": [
    "# Create a 3x3 identity matrix\n",
    "d = np.eye(3)\n",
    "print(d)"
   ]
  },
  {
   "cell_type": "code",
   "execution_count": 37,
   "metadata": {},
   "outputs": [
    {
     "name": "stdout",
     "output_type": "stream",
     "text": [
      "[[ 0.56180486  0.11009023  0.65569103  0.36894147  0.50407966  0.92312902]\n",
      " [ 0.39547475  0.2901209   0.21039092  0.21562841  0.09260257  0.9610061 ]\n",
      " [ 0.89873423  0.33189449  0.08212571  0.93276282  0.97222272  0.90359426]\n",
      " [ 0.09031404  0.97150668  0.88675735  0.91413619  0.62444539  0.58887615]\n",
      " [ 0.4567415   0.97222898  0.52123559  0.38602818  0.59476854  0.78949176]\n",
      " [ 0.6481244   0.44626018  0.12230136  0.84572818  0.13646841  0.20346184]]\n"
     ]
    }
   ],
   "source": [
    "# Create an array filled with random values from 0 to 1\n",
    "e = np.random.random((6,6))\n",
    "print(e) "
   ]
  },
  {
   "cell_type": "code",
   "execution_count": 47,
   "metadata": {},
   "outputs": [
    {
     "name": "stdout",
     "output_type": "stream",
     "text": [
      "[-10  -9  -8  -7  -6  -5  -4  -3  -2  -1   0   1   2   3   4   5   6   7\n",
      "   8   9]\n"
     ]
    }
   ],
   "source": [
    "# arange function in numpy provides convenient way to produce an array interpolate between the numbers, the input\n",
    "# are start, stop, step, run %pdoc np.arange to check\n",
    "print np.arange(-10,10,1)"
   ]
  },
  {
   "cell_type": "code",
   "execution_count": 50,
   "metadata": {},
   "outputs": [
    {
     "name": "stdout",
     "output_type": "stream",
     "text": [
      "[-1.57079633 -1.47079633 -1.37079633 -1.27079633 -1.17079633 -1.07079633\n",
      " -0.97079633 -0.87079633 -0.77079633 -0.67079633 -0.57079633 -0.47079633\n",
      " -0.37079633 -0.27079633 -0.17079633 -0.07079633  0.02920367  0.12920367\n",
      "  0.22920367  0.32920367  0.42920367  0.52920367  0.62920367  0.72920367\n",
      "  0.82920367  0.92920367  1.02920367  1.12920367  1.22920367  1.32920367\n",
      "  1.42920367  1.52920367]\n"
     ]
    }
   ],
   "source": [
    "# np.pi = pi, the resultant araay of this line outputs an interpolation from -pi/2 to pi/2, with 0.01 interval\n",
    "print np.arange(-np.pi/2,np.pi/2,0.1)"
   ]
  },
  {
   "cell_type": "markdown",
   "metadata": {},
   "source": [
    "## Array indexing"
   ]
  },
  {
   "cell_type": "markdown",
   "metadata": {},
   "source": [
    "### Slicing"
   ]
  },
  {
   "cell_type": "code",
   "execution_count": 39,
   "metadata": {
    "scrolled": true
   },
   "outputs": [
    {
     "name": "stdout",
     "output_type": "stream",
     "text": [
      "[[1 2 3]\n",
      " [4 5 6]\n",
      " [7 8 9]]\n",
      "[[2 3]\n",
      " [5 6]\n",
      " [8 9]]\n",
      "[[1 2]\n",
      " [4 5]]\n"
     ]
    }
   ],
   "source": [
    "e = np.array([[1, 2, 3], [4, 5, 6], [7, 8, 9]])\n",
    "print e\n",
    "# Each dimensions slice similar to a list, here it means 1st dimension select all, \n",
    "# 2nd dimension select from one till end.\n",
    "print e[:,1:]\n",
    "# Here it means 1st dimension and 2nd dimension select from start till 2, \n",
    "# i.e. the upper left part of the array.\n",
    "print e[:2,:2]"
   ]
  },
  {
   "cell_type": "markdown",
   "metadata": {},
   "source": [
    "### Boolean array indexing"
   ]
  },
  {
   "cell_type": "code",
   "execution_count": 40,
   "metadata": {},
   "outputs": [
    {
     "name": "stdout",
     "output_type": "stream",
     "text": [
      "[[False False False]\n",
      " [False False  True]\n",
      " [ True  True  True]]\n"
     ]
    }
   ],
   "source": [
    "# An operation like numpy array > than a value return a boolean array\n",
    "e = np.array([[1, 2, 3], [4, 5, 6], [7, 8, 9]])\n",
    "print e > 5"
   ]
  },
  {
   "cell_type": "code",
   "execution_count": 41,
   "metadata": {},
   "outputs": [
    {
     "name": "stdout",
     "output_type": "stream",
     "text": [
      "[6 7 8 9]\n"
     ]
    }
   ],
   "source": [
    "# If we put the boolean array into the same array, itwill select all element that satisfy the conditions\n",
    "e = np.array([[1, 2, 3], [4, 5, 6], [7, 8, 9]])\n",
    "print e[e > 5]"
   ]
  },
  {
   "cell_type": "markdown",
   "metadata": {},
   "source": [
    "## Array Operation\n"
   ]
  },
  {
   "cell_type": "code",
   "execution_count": 42,
   "metadata": {},
   "outputs": [
    {
     "name": "stdout",
     "output_type": "stream",
     "text": [
      "[[1 2 3]\n",
      " [4 5 6]\n",
      " [7 8 9]]\n",
      "45\n"
     ]
    }
   ],
   "source": [
    "# numpy sum can sum up all value in an array\n",
    "e = np.array([[1, 2, 3], [4, 5, 6], [7, 8, 9]])\n",
    "print e\n",
    "print np.sum(e)"
   ]
  },
  {
   "cell_type": "code",
   "execution_count": 43,
   "metadata": {},
   "outputs": [
    {
     "name": "stdout",
     "output_type": "stream",
     "text": [
      "[ 6 15 24]\n"
     ]
    }
   ],
   "source": [
    "# Or along a dimension, here the operation sum up along the column (2nd dimension)\n",
    "print np.sum(e,1)"
   ]
  },
  {
   "cell_type": "code",
   "execution_count": 44,
   "metadata": {},
   "outputs": [
    {
     "name": "stdout",
     "output_type": "stream",
     "text": [
      "[12 15 18]\n"
     ]
    }
   ],
   "source": [
    "# Or along a dimension, here the operation sum up along the row (1st dimension)\n",
    "print np.sum(e,0)"
   ]
  },
  {
   "cell_type": "code",
   "execution_count": 45,
   "metadata": {},
   "outputs": [
    {
     "name": "stdout",
     "output_type": "stream",
     "text": [
      "[[1 4 7]\n",
      " [2 5 8]\n",
      " [3 6 9]]\n"
     ]
    }
   ],
   "source": [
    "# The .T returns the transpose of an array\n",
    "print e.T"
   ]
  },
  {
   "cell_type": "code",
   "execution_count": null,
   "metadata": {
    "collapsed": true
   },
   "outputs": [],
   "source": []
  },
  {
   "cell_type": "code",
   "execution_count": null,
   "metadata": {
    "collapsed": true
   },
   "outputs": [],
   "source": []
  }
 ],
 "metadata": {
  "kernelspec": {
   "display_name": "Python [default]",
   "language": "python",
   "name": "python2"
  },
  "language_info": {
   "codemirror_mode": {
    "name": "ipython",
    "version": 2
   },
   "file_extension": ".py",
   "mimetype": "text/x-python",
   "name": "python",
   "nbconvert_exporter": "python",
   "pygments_lexer": "ipython2",
   "version": "2.7.13"
  }
 },
 "nbformat": 4,
 "nbformat_minor": 2
}
