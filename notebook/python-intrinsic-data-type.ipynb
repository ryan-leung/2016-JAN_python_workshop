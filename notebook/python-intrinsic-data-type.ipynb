{
 "cells": [
  {
   "cell_type": "markdown",
   "metadata": {},
   "source": [
    "# Python Intrinsic Data Type"
   ]
  },
  {
   "cell_type": "markdown",
   "metadata": {},
   "source": [
    "## Overview\n",
    "\n",
    "Python has these common built-in `Data Types`:\n",
    "https://docs.python.org/2/library/stdtypes.html\n",
    "\n",
    "* [Numeric](#Numeric)\n",
    "* [String](#string)\n",
    "* [Boolean](#boolean)\n",
    "* [List](#list)\n",
    "* [Tuple](#tuple)\n",
    "* [Dictionary](#dictionary)\n",
    "* [Set](#set)\n",
    "\n",
    "Python will set the variable type once it is assigned. You can change the variable type if the new variable value is set to another type. For example:"
   ]
  },
  {
   "cell_type": "code",
   "execution_count": 3,
   "metadata": {},
   "outputs": [
    {
     "name": "stdout",
     "output_type": "stream",
     "text": [
      "<type 'int'>\n",
      "<type 'str'>\n"
     ]
    }
   ],
   "source": [
    "var = 321 # Create an integer assignment.\n",
    "print type(var)\n",
    "var = 'HKU' # The new `var` variable is now become a string type.\n",
    "print type(var)"
   ]
  },
  {
   "cell_type": "markdown",
   "metadata": {},
   "source": [
    "## Numeric\n",
    "\n",
    "Numeric Types are basic data storage in nearly every programming languages. In python, they can be : `int`, `long`, `float` and `complex`.\n",
    "\n",
    "\n",
    "| Type | Format | Description |\n",
    "|:----:|:------:|:--------|\n",
    "| int | ```a = 10```| Signed Integer |\n",
    "| long | ```a = 345L``` | (L) Long integers |\n",
    "| float | ```a = 45.67``` | (.) Floating point real values |\n",
    "| complex | ```a = 3.14j``` | (j) Complex number, Python use `j` to denote the imaginary part. |\n",
    "\n",
    "Python numbers variables are created by the standard assign method:"
   ]
  },
  {
   "cell_type": "code",
   "execution_count": 20,
   "metadata": {},
   "outputs": [
    {
     "name": "stdout",
     "output_type": "stream",
     "text": [
      "68 is a <type 'int'>\n",
      "32385848583853453453255459395439 is a <type 'long'>\n",
      "45.67 is a <type 'float'>\n",
      "3.14j is a <type 'complex'>\n"
     ]
    }
   ],
   "source": [
    "a = 68\n",
    "print a,\"is a\",type(a)\n",
    "\n",
    "b = 32385848583853453453255459395439L\n",
    "print b,\"is a\",type(b)\n",
    "\n",
    "c = 45.67\n",
    "print c,\"is a\",type(c)\n",
    "\n",
    "d = 3.14j\n",
    "print d,\"is a\",type(d)"
   ]
  },
  {
   "cell_type": "markdown",
   "metadata": {},
   "source": [
    "### Arithematic\n",
    "\n",
    "Basic arithmatic functions \n",
    "You can print different variables at the same time with comma-separated, and the different arthimatic operations are showned"
   ]
  },
  {
   "cell_type": "code",
   "execution_count": 29,
   "metadata": {},
   "outputs": [
    {
     "name": "stdout",
     "output_type": "stream",
     "text": [
      "25 -5 150 0\n"
     ]
    }
   ],
   "source": [
    "a = 10\n",
    "b = 15\n",
    "print a + b , a - b , a * b , a / b"
   ]
  },
  {
   "cell_type": "code",
   "execution_count": null,
   "metadata": {},
   "outputs": [],
   "source": []
  },
  {
   "cell_type": "markdown",
   "metadata": {},
   "source": [
    "## String\n",
    "\n",
    "String types are created by enclosing characters in quotes. Single quotes `'` double quotes `\"` can be used to denote a string in one-line. The triple quotes `\"\"\"` can define a multi-line string. They shall be in pairs.\n",
    "\n",
    "firstName = 'john'\n",
    "lastName = \"smith\"\n",
    "message = \"\"\"This is a string that will span across multiple lines. Using newline characters\n",
    "and no spaces for the next lines. The end of lines within this string also count as a newline when printed\"\"\"\n",
    "Strings can be accessed as a whole string, or a substring of the complete variable using brackets ‘[]’. Here are a couple examples:\n",
    "\n",
    "var1 = 'Hello World!'\n",
    "var2 = 'RhinoPython'\n",
    "\n",
    "print var1[0] # this will print the first character in the string an `H`\n",
    "print var2[1:5] # this will print the substring 'hinoP`\n",
    "Python can use a special syntax to format multiple strings and numbers. The string formatter is quickly covered here because it is seen often and it is important to recognize the syntax.\n",
    "\n",
    "print \"The item {} is repeated {} times\".format(element,count))\n",
    "The {} are placeholders that are substituted by the variables element and count in the final string. This compact syntax is meant to keep the code more readable and compact.\n",
    "\n",
    "Python is currently transitioning to the format syntax above, but python can use an older syntax, which is being phased out, but is still seen in some example code:\n",
    "\n",
    "print \"The item %i is repeated %i times\"% (element,count)\n",
    "For more information on the string formatter in Python see the article: PyFormat Website\n",
    "\n",
    "For a more detailed look at string variables in Python, see the Tutorialspoint Python Tutorial on stings. Note: this article does use the older formatting syntax, but has a lot useful information."
   ]
  },
  {
   "cell_type": "code",
   "execution_count": 26,
   "metadata": {},
   "outputs": [],
   "source": [
    "Name = 'Stephen Ng'\n",
    "Subject = \"Lunar eclipse open house today\"\n",
    "Email = \"ncy@astro.physics.hku.hk\"\n",
    "Content='''There will be a lunar eclipse observable in Hong Kong on Jan 31 starting at 19:48pm. The Department will arrange an open house for the observatory at the roof from 7pm.\n",
    "'''"
   ]
  },
  {
   "cell_type": "code",
   "execution_count": 28,
   "metadata": {},
   "outputs": [
    {
     "name": "stdout",
     "output_type": "stream",
     "text": [
      "from: Stephen Ng <ncy@astro.physics.hku.hk>\n",
      "subject: Lunar eclipse open house today\n",
      "-------------------------------------------\n",
      "There will be a lunar eclipse observable in Hong Kong on Jan 31 starting at 19:48pm. The Department will arrange an open house for the observatory at the roof from 7pm.\n",
      "\n"
     ]
    }
   ],
   "source": [
    "print \"from:\", Name, '<'+Email+'>'\n",
    "print \"subject:\", Subject\n",
    "print \"-------------------------------------------\"\n",
    "print Content"
   ]
  },
  {
   "cell_type": "markdown",
   "metadata": {},
   "source": [
    "### More on Integer\n",
    "\n",
    "Because Python has arbitrarily large integers, there will not be integer overflow happened. An an integer overflow occurs when an arithmetic operation attempts to create a numeric value that is outside of the range that can be represented with a given number of bits – either larger than the maximum or lower than the minimum representable value."
   ]
  },
  {
   "cell_type": "code",
   "execution_count": 21,
   "metadata": {},
   "outputs": [
    {
     "name": "stdout",
     "output_type": "stream",
     "text": [
      "1 is a <type 'int'>\n",
      "<type 'long'>\n"
     ]
    }
   ],
   "source": [
    "a = 01\n",
    "b = 027\n",
    "c = 06645               # Octal integers\n",
    "print a,\"is a\",type(a)\n",
    "0x1, 0x17, 0xDA5             # Hexadecimal integers\n",
    "\n",
    "lv =1L\n",
    "iv = int(lv & 0xffffffff)\n",
    "print type(lv)"
   ]
  },
  {
   "cell_type": "code",
   "execution_count": null,
   "metadata": {},
   "outputs": [],
   "source": []
  }
 ],
 "metadata": {
  "kernelspec": {
   "display_name": "Python 2",
   "language": "python",
   "name": "python2"
  },
  "language_info": {
   "codemirror_mode": {
    "name": "ipython",
    "version": 2
   },
   "file_extension": ".py",
   "mimetype": "text/x-python",
   "name": "python",
   "nbconvert_exporter": "python",
   "pygments_lexer": "ipython2",
   "version": "2.7.14"
  }
 },
 "nbformat": 4,
 "nbformat_minor": 2
}
