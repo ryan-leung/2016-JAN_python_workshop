{
 "cells": [
  {
   "cell_type": "markdown",
   "metadata": {},
   "source": [
    "# Python Syntax"
   ]
  },
  {
   "cell_type": "markdown",
   "metadata": {},
   "source": [
    "In this tutorial notebook, you will learn how to do programming in python and Jupyter (formerly named as ipython). Open a new python notebook, try to `copy` and `paste` the following codes to play with. \n",
    "\n",
    "When you read the following codes, you will see how simple and clear Python syntax is. \n",
    "\n",
    "<a href=\"https://colab.research.google.com/github/ryan-leung/PHYS4650_Python_Tutorial/blob/master/notebooks/01-Python-Syntax.ipynb\"><img align=\"right\" src=\"https://colab.research.google.com/assets/colab-badge.svg\" alt=\"Open in Colab\" title=\"Open and Execute in Google Colaboratory\">\n",
    "</a>\n"
   ]
  },
  {
   "cell_type": "code",
   "execution_count": 1,
   "metadata": {},
   "outputs": [],
   "source": [
    "# make a list\n",
    "students = ['boy', 'boy', 'girl', 'boy', 'girl', 'girl', 'boy', 'boy', 'girl', 'girl', 'boy', 'boy']\n",
    "\n",
    "boys = 0; girls = 0\n",
    "\n",
    "for s in students:\n",
    "    if s == 'boy':\n",
    "        boys = boys +1\n",
    "    else:\n",
    "        girls+=1\n",
    "        \n",
    "print(\"boys:\", boys)\n",
    "print(\"girls:\", girls)"
   ]
  },
  {
   "cell_type": "markdown",
   "metadata": {},
   "source": [
    "# Hello World! in other language\n",
    "\n",
    "#### Python\n",
    "```python\n",
    "print(\"Hello World!\")\n",
    "``` \n",
    "\n",
    "#### Fortran\n",
    "```fortran\n",
    "    PROGRAM HELLO\n",
    "    WRITE (*,100)\n",
    "    STOP\n",
    "100 FORMAT (' Hello World! ' /)\n",
    "    END\n",
    "```\n",
    "\n",
    "#### Lisp\n",
    "```lisp\n",
    "(print \"Hello World!\")\n",
    "```\n",
    "\n",
    "#### C++\n",
    "```cpp\n",
    "#include <iostream.h>\n",
    "main()\n",
    "{\n",
    "    cout << \"Hello World!\" << endl;\n",
    "    return 0;\n",
    "}\n",
    "```\n",
    "\n",
    "\n",
    "#### Java\n",
    "```java\n",
    "class HelloWorld {\n",
    "  static public void main( String args[] ) {\n",
    "    System.out.println( \"Hello World!\" );\n",
    "  }\n",
    "}\n",
    "```\n",
    "\n",
    "\n",
    "#### Matlab\n",
    "```octave\n",
    "disp('Hello World!');\n",
    "```\n",
    "\n",
    "#### JavaScript\n",
    "```javascript\n",
    "document.write('Hello World!')\n",
    "```"
   ]
  },
  {
   "cell_type": "markdown",
   "metadata": {},
   "source": [
    "# Jupyter Notebook\n",
    "\n",
    "![](/static/base/images/logo.png)\n",
    "#### operations:\n",
    "\n",
    "1. Click on the cell to select it.\n",
    "2. Press `SHIFT+ENTER` on your keyboard or press the play button (<button class='btn btn-default fa-step-forward fa'><span class=\"toolbar-btn-label\">Run</span></button>) in the toolbar above.\n",
    "3. Open new cells using the plus button (<button class='btn btn-default fa-plus fa' title=\"Run\"></button>)\n",
    "\n",
    "You may read the following tutorial for more information:\n",
    "https://www.datacamp.com/community/tutorials/tutorial-jupyter-notebook\n",
    "\n",
    "#### Let's us print a ``Hello World!`` statement\n",
    "1. Write\n",
    "```python\n",
    "print(\"Hello World!\")\n",
    "``` \n",
    "into the cell below:\n",
    "2. Press `SHIFT+ENTER` on your keyboard!"
   ]
  },
  {
   "cell_type": "code",
   "execution_count": null,
   "metadata": {},
   "outputs": [],
   "source": []
  },
  {
   "cell_type": "markdown",
   "metadata": {},
   "source": [
    "# Screen Output\n",
    "\n",
    "To enter more than one line in a cell, press ``Enter``. The print function will print all the objects seprated by a comma `,` on the same line, the output will have . For example,  ```print \"Hello\", \"World!\"``` will have a space between `Hello` and `World!`.\n"
   ]
  },
  {
   "cell_type": "code",
   "execution_count": 2,
   "metadata": {},
   "outputs": [],
   "source": [
    "print(\"Hello\", \"World!\")"
   ]
  },
  {
   "cell_type": "code",
   "execution_count": 3,
   "metadata": {},
   "outputs": [],
   "source": [
    "print(\"Tips 3: Use \\ to escape an characters like \\\"\")\n",
    "print(\"Tips 4: Use \\\\n \\n to make a newline character\")\n",
    "print(\"\"\"Tips 5: Use three \\\" to \n",
    "make \n",
    "multiple \n",
    "line\n",
    "\"\"\")"
   ]
  },
  {
   "cell_type": "markdown",
   "metadata": {},
   "source": [
    "# The magic command (used in jupyte notebook)\n",
    "\n",
    "Any command starts with `%` are magic command in ipython notebook. These `%` command can only be used in ipython instant. A full list of magic command can be found here: \n",
    "\n",
    "http://ipython.readthedocs.io/en/stable/interactive/magics.html. \n",
    "\n",
    "These commands are particularly useful in developing and debugging your program.\n",
    "\n",
    "\n"
   ]
  },
  {
   "cell_type": "markdown",
   "metadata": {},
   "source": [
    "#### Performance test\n",
    "\n",
    "you can time a statement with ``%timeit`` and it will output a basic execution time."
   ]
  },
  {
   "cell_type": "code",
   "execution_count": 4,
   "metadata": {},
   "outputs": [
    {
     "name": "stdout",
     "output_type": "stream",
     "text": [
      "1.22 ms ± 3.59 µs per loop (mean ± std. dev. of 7 runs, 1000 loops each)\n"
     ]
    }
   ],
   "source": [
    "%timeit sum(range(100000))"
   ]
  },
  {
   "cell_type": "markdown",
   "metadata": {},
   "source": [
    "# Import package and library\n",
    "Python has a lot of library. Use expression like\n",
    "```python\n",
    "import xxxxxxx\n",
    "```\n",
    "or\n",
    "```python\n",
    "from xxxxxxx import yyyyyy\n",
    "```\n",
    "to import library provided that you know the name of your library xxxxxx and objects yyyyyyy in the library xxxxxxx.\n",
    "\n",
    "Package is not loaded at the beginning, you need to import it before using it.\n"
   ]
  },
  {
   "cell_type": "code",
   "execution_count": 5,
   "metadata": {},
   "outputs": [],
   "source": [
    "import numpy"
   ]
  },
  {
   "cell_type": "code",
   "execution_count": 6,
   "metadata": {},
   "outputs": [
    {
     "data": {
      "text/plain": [
       "<module 'numpy' from '/home/yanyan/anaconda3/lib/python3.7/site-packages/numpy/__init__.py'>"
      ]
     },
     "execution_count": 6,
     "metadata": {},
     "output_type": "execute_result"
    }
   ],
   "source": [
    "numpy"
   ]
  },
  {
   "cell_type": "code",
   "execution_count": 7,
   "metadata": {},
   "outputs": [],
   "source": [
    "import numpy as np"
   ]
  },
  {
   "cell_type": "code",
   "execution_count": 8,
   "metadata": {},
   "outputs": [
    {
     "data": {
      "text/plain": [
       "<module 'numpy' from '/home/yanyan/anaconda3/lib/python3.7/site-packages/numpy/__init__.py'>"
      ]
     },
     "execution_count": 8,
     "metadata": {},
     "output_type": "execute_result"
    }
   ],
   "source": [
    "np"
   ]
  },
  {
   "cell_type": "markdown",
   "metadata": {},
   "source": [
    "# Comments Are Marked by *#*"
   ]
  },
  {
   "cell_type": "code",
   "execution_count": 9,
   "metadata": {},
   "outputs": [],
   "source": [
    "# Declare x=0\n",
    "x=0"
   ]
  },
  {
   "cell_type": "code",
   "execution_count": 10,
   "metadata": {},
   "outputs": [],
   "source": [
    "x += 2  # shorthand for x = x + 2"
   ]
  },
  {
   "cell_type": "code",
   "execution_count": 11,
   "metadata": {},
   "outputs": [],
   "source": [
    "\"\"\"\n",
    "Multi line Strings can also be used as comment (a docstring)\n",
    "\"\"\"\n",
    "x += 2"
   ]
  },
  {
   "cell_type": "markdown",
   "metadata": {},
   "source": [
    "# A Statement\n",
    "\n",
    "Remember end of line will terminate a statement. To produce a multi-line code we will add ``\\`` to the end of line"
   ]
  },
  {
   "cell_type": "code",
   "execution_count": 12,
   "metadata": {},
   "outputs": [],
   "source": [
    "x = 1 + 2 + 3 + 4 + 5 \\\n",
    "    + 6 + 7 + 8"
   ]
  },
  {
   "cell_type": "markdown",
   "metadata": {},
   "source": [
    "It is also possible to continue expressions on the next line within parentheses, without using the ``\\`` marker:"
   ]
  },
  {
   "cell_type": "code",
   "execution_count": 13,
   "metadata": {},
   "outputs": [],
   "source": [
    "x = (1 + 2 + 3 + 4 +\n",
    "     5 + 6 + 7 + 8)"
   ]
  },
  {
   "cell_type": "markdown",
   "metadata": {},
   "source": [
    "Sometimes it can be useful to put multiple statements on a single line."
   ]
  },
  {
   "cell_type": "code",
   "execution_count": 14,
   "metadata": {},
   "outputs": [],
   "source": [
    "boys = 0; girls = 0"
   ]
  },
  {
   "cell_type": "markdown",
   "metadata": {},
   "source": [
    "# A Note on the ``print()`` Function¶\n"
   ]
  },
  {
   "cell_type": "markdown",
   "metadata": {},
   "source": [
    "```python\n",
    "# Python 2 only!\n",
    ">> print \"first value:\", 1\n",
    "first value: 1\n",
    "```"
   ]
  },
  {
   "cell_type": "markdown",
   "metadata": {},
   "source": [
    "```python\n",
    "# Python 3 onwards\n",
    ">> print(\"first value:\", 1)\n",
    "first value: 1\n",
    "```"
   ]
  },
  {
   "cell_type": "markdown",
   "metadata": {},
   "source": [
    "In order to use print function in python 2, you may execute at the beginning\n",
    "```python \n",
    "from __future__ import print_function\n",
    "```"
   ]
  },
  {
   "cell_type": "markdown",
   "metadata": {},
   "source": [
    "# Indentation: space ot tab, but don't mix it up"
   ]
  },
  {
   "cell_type": "code",
   "execution_count": 15,
   "metadata": {},
   "outputs": [],
   "source": [
    "for s in students:\n",
    "    if s == 'boy':\n",
    "        boys = boys +1\n",
    "    else:\n",
    "        girls+=1"
   ]
  },
  {
   "cell_type": "markdown",
   "metadata": {},
   "source": [
    "```C\n",
    "// C code\n",
    "for(int i=0; i<100; i++)\n",
    "   {\n",
    "      // curly braces indicate code block\n",
    "      total += i;\n",
    "   }\n",
    "```"
   ]
  },
  {
   "cell_type": "markdown",
   "metadata": {},
   "source": [
    "In Python, code blocks are denoted by indentation:"
   ]
  },
  {
   "cell_type": "markdown",
   "metadata": {},
   "source": [
    "```python\n",
    "for i in range(100):\n",
    "    # indentation indicates code block\n",
    "    total += i\n",
    "```"
   ]
  },
  {
   "cell_type": "markdown",
   "metadata": {},
   "source": [
    "# Conclusion\n",
    "\n",
    "This is a very brief exploration of the essential features of Python syntax; its purpose is to give you a good frame of reference for when you're reading the code in later sections. The most widely used style guide in Python is known as ``PEP8``, and can be found at https://www.python.org/dev/peps/pep-0008/. "
   ]
  }
 ],
 "metadata": {
  "kernelspec": {
   "display_name": "Python 3",
   "language": "python",
   "name": "python3"
  },
  "language_info": {
   "codemirror_mode": {
    "name": "ipython",
    "version": 3
   },
   "file_extension": ".py",
   "mimetype": "text/x-python",
   "name": "python",
   "nbconvert_exporter": "python",
   "pygments_lexer": "ipython3",
   "version": "3.7.1"
  }
 },
 "nbformat": 4,
 "nbformat_minor": 2
}
