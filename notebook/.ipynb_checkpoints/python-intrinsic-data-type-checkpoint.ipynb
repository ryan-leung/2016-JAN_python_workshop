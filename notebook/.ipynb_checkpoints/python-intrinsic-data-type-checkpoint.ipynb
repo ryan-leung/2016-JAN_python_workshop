{
 "cells": [
  {
   "cell_type": "markdown",
   "metadata": {},
   "source": [
    "# Python Intrinsic Data Type"
   ]
  },
  {
   "cell_type": "markdown",
   "metadata": {},
   "source": [
    "## Overview\n",
    "\n",
    "Python has these common built-in `Data Types`:\n",
    "https://docs.python.org/2/library/stdtypes.html\n",
    "\n",
    "* [Numeric](#numeric)\n",
    "* [String](#string)\n",
    "* [Boolean](#boolean)\n",
    "* [List](#list)\n",
    "* [Tuple](#tuple)\n",
    "* [Dictionary](#dictionary)\n",
    "* [Set](#set)\n",
    "\n",
    "Python will set the variable type once it is assigned. You can change the variable type if the new variable value is set to another type. For example:"
   ]
  },
  {
   "cell_type": "code",
   "execution_count": 3,
   "metadata": {},
   "outputs": [
    {
     "name": "stdout",
     "output_type": "stream",
     "text": [
      "<type 'int'>\n",
      "<type 'str'>\n"
     ]
    }
   ],
   "source": [
    "var = 321 # Create an integer assignment.\n",
    "print type(var)\n",
    "var = 'HKU' # The new `var` variable is now become a string type.\n",
    "print type(var)"
   ]
  },
  {
   "cell_type": "markdown",
   "metadata": {},
   "source": [
    "## Numeric\n",
    "\n",
    "Numeric Types are basic data storage in nearly every programming languages. In python, they can be : `int`, `long`, `float` and `complex`.\n",
    "\n",
    "\n",
    "| Type | Format | Description |\n",
    "|:----:|:------:|:--------|\n",
    "| int | ```a = 10```| Signed Integer |\n",
    "| long | ```a = 345L``` | (L) Long integers |\n",
    "| float | ```a = 45.67``` | (.) Floating point real values |\n",
    "| complex | ```a = 3.14j``` | (j) Contains integer in the range 0 to 255. |\n",
    "\n",
    "Python numbers variables are created by the standard assign method:"
   ]
  },
  {
   "cell_type": "code",
   "execution_count": 8,
   "metadata": {},
   "outputs": [
    {
     "name": "stdout",
     "output_type": "stream",
     "text": [
      "10 is a <type 'int'>\n",
      "345 is a <type 'long'>\n",
      "45.67 is a <type 'float'>\n",
      "3.14j is a <type 'complex'>\n"
     ]
    }
   ],
   "source": [
    "a = 68\n",
    "print a,\"is a\",type(a)\n",
    "a = L\n",
    "print a,\"is a\",type(a)\n",
    "a = 45.67\n",
    "print a,\"is a\",type(a)\n",
    "a = 3.14j\n",
    "print a,\"is a\",type(a)"
   ]
  },
  {
   "cell_type": "code",
   "execution_count": 10,
   "metadata": {},
   "outputs": [
    {
     "name": "stdout",
     "output_type": "stream",
     "text": [
      "1 is a <type 'int'>\n"
     ]
    },
    {
     "data": {
      "text/plain": [
       "(1, 23, 3493)"
      ]
     },
     "execution_count": 10,
     "metadata": {},
     "output_type": "execute_result"
    }
   ],
   "source": [
    "a = 01\n",
    "b = 027\n",
    "c = 06645               # Octal integers\n",
    "print a,\"is a\",type(a)\n",
    "0x1, 0x17, 0xDA5             # Hexadecimal integers"
   ]
  },
  {
   "cell_type": "code",
   "execution_count": null,
   "metadata": {},
   "outputs": [],
   "source": []
  }
 ],
 "metadata": {
  "kernelspec": {
   "display_name": "Python 2",
   "language": "python",
   "name": "python2"
  },
  "language_info": {
   "codemirror_mode": {
    "name": "ipython",
    "version": 2
   },
   "file_extension": ".py",
   "mimetype": "text/x-python",
   "name": "python",
   "nbconvert_exporter": "python",
   "pygments_lexer": "ipython2",
   "version": "2.7.14"
  }
 },
 "nbformat": 4,
 "nbformat_minor": 2
}
